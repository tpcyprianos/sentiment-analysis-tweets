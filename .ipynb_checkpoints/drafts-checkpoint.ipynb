{
 "cells": [
  {
   "cell_type": "code",
   "execution_count": null,
   "metadata": {
    "collapsed": true
   },
   "outputs": [],
   "source": [
    "############# TRatando hora\n",
    "datasetInFrame[\"dateDate\"] = datasetInFrame[\"date\"].apply(lambda x: datetime.strptime(x,'%m/%d/%Y').date())\n",
    "#datasetInFrame[\"timeTime\"] = datasetInFrame[\"time\"].apply(lambda x: x)\n",
    "#datasetInFrame[\"timeTime\"] = datasetInFrame[\"time\"].apply(lambda x: x.replace(\":\",\"\"))\n",
    "\n",
    "def to_integer(dt_time):\n",
    "    return 10000*dt_time.year + 100*dt_time.month + dt_time.day\n",
    "\n",
    "datasetInFrame[\"dateInt\"] = datasetInFrame[\"dateDate\"].apply(lambda x: to_integer(x))\n",
    "\n",
    "#format = '%H:%M:%S'\n",
    "#print(datetime.strptime(\"0:17:49\", format))"
   ]
  },
  {
   "cell_type": "code",
   "execution_count": 1,
   "metadata": {
    "collapsed": true
   },
   "outputs": [],
   "source": [
    "############## Separando IDs\n",
    "usersName = datasetInFrame[\"id\"]\n",
    "del datasetInFrame[\"id\"]\n",
    "#datasetInFrame"
   ]
  },
  {
   "cell_type": "code",
   "execution_count": null,
   "metadata": {
    "collapsed": true
   },
   "outputs": [],
   "source": [
    "####\n",
    "#format = '%m/%d/%Y %H:%M:%S'\n",
    "#datetime.strptime(\"10/27/2017 0:17:49\", format)"
   ]
  }
 ],
 "metadata": {
  "kernelspec": {
   "display_name": "Python 3",
   "language": "python",
   "name": "python3"
  },
  "language_info": {
   "codemirror_mode": {
    "name": "ipython",
    "version": 3
   },
   "file_extension": ".py",
   "mimetype": "text/x-python",
   "name": "python",
   "nbconvert_exporter": "python",
   "pygments_lexer": "ipython3",
   "version": "3.6.0"
  }
 },
 "nbformat": 4,
 "nbformat_minor": 2
}
