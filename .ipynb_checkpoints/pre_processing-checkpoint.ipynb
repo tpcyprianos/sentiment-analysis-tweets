{
 "cells": [
  {
   "cell_type": "markdown",
   "metadata": {},
   "source": [
    "# Pré-processamento"
   ]
  },
  {
   "cell_type": "code",
   "execution_count": 1,
   "metadata": {
    "collapsed": true
   },
   "outputs": [],
   "source": [
    "# encoding: utf-8\n",
    "# encoding: iso-8859-1\n",
    "# encoding: win-1252\n",
    "\n",
    "import pandas as pd\n",
    "import csv\n",
    "from datetime import datetime\n",
    "from dateutil import parser\n",
    "import nltk\n",
    "from nltk.corpus import stopwords\n",
    "from nltk.stem import PorterStemmer\n",
    "from sklearn.feature_extraction.text import CountVectorizer\n",
    "import numpy as np\n",
    "\n",
    "import matplotlib.pyplot as plt # Matplot is a common Python lib for plotting\n",
    "%matplotlib inline\n",
    "import seaborn as sns # Seaborn is a great tool for data analysis graphs\n",
    "from sklearn.svm import SVC\n"
   ]
  },
  {
   "cell_type": "code",
   "execution_count": 25,
   "metadata": {
    "collapsed": false
   },
   "outputs": [],
   "source": [
    "datasetInFrame = pd.read_csv(\"output-pleasure-arousal-labeled.csv\", sep=\"|\", encoding=\"ISO-8859-1\",quoting=csv.QUOTE_ALL)"
   ]
  },
  {
   "cell_type": "code",
   "execution_count": 26,
   "metadata": {
    "collapsed": false
   },
   "outputs": [
    {
     "data": {
      "text/html": [
       "<div>\n",
       "<table border=\"1\" class=\"dataframe\">\n",
       "  <thead>\n",
       "    <tr style=\"text-align: right;\">\n",
       "      <th></th>\n",
       "      <th>id</th>\n",
       "      <th>txt</th>\n",
       "      <th>val</th>\n",
       "      <th>int</th>\n",
       "      <th>cit</th>\n",
       "      <th>data</th>\n",
       "      <th>dia</th>\n",
       "    </tr>\n",
       "  </thead>\n",
       "  <tbody>\n",
       "    <tr>\n",
       "      <th>0</th>\n",
       "      <td>line_fdl</td>\n",
       "      <td>Tô tão pensativa ultimamente, nn tô me sentind...</td>\n",
       "      <td>3</td>\n",
       "      <td>3</td>\n",
       "      <td>Rio de Janeiro, Brasil</td>\n",
       "      <td>10/27/2017 0:17:49</td>\n",
       "      <td>6</td>\n",
       "    </tr>\n",
       "    <tr>\n",
       "      <th>1</th>\n",
       "      <td>line_fdl</td>\n",
       "      <td>Guilherme só aparece aqui em casa p fazer barb...</td>\n",
       "      <td>5</td>\n",
       "      <td>4</td>\n",
       "      <td>Rio de Janeiro, Brasil</td>\n",
       "      <td>10/26/2017 20:47:35</td>\n",
       "      <td>5</td>\n",
       "    </tr>\n",
       "    <tr>\n",
       "      <th>2</th>\n",
       "      <td>line_fdl</td>\n",
       "      <td>Amo cheiro de café pela manhã.. ???</td>\n",
       "      <td>5</td>\n",
       "      <td>4</td>\n",
       "      <td>Rio de Janeiro, Brasil</td>\n",
       "      <td>10/26/2017 9:45:33</td>\n",
       "      <td>5</td>\n",
       "    </tr>\n",
       "    <tr>\n",
       "      <th>3</th>\n",
       "      <td>line_fdl</td>\n",
       "      <td>Tô meio aérea</td>\n",
       "      <td>4</td>\n",
       "      <td>2</td>\n",
       "      <td>Rio de Janeiro, Brasil</td>\n",
       "      <td>10/26/2017 1:24:55</td>\n",
       "      <td>5</td>\n",
       "    </tr>\n",
       "    <tr>\n",
       "      <th>4</th>\n",
       "      <td>line_fdl</td>\n",
       "      <td>Tô mega cansada nn sei que cançaso é esse, só ...</td>\n",
       "      <td>2</td>\n",
       "      <td>4</td>\n",
       "      <td>Rio de Janeiro, Brasil</td>\n",
       "      <td>10/26/2017 0:56:21</td>\n",
       "      <td>5</td>\n",
       "    </tr>\n",
       "  </tbody>\n",
       "</table>\n",
       "</div>"
      ],
      "text/plain": [
       "         id                                                txt  val  int  \\\n",
       "0  line_fdl  Tô tão pensativa ultimamente, nn tô me sentind...    3    3   \n",
       "1  line_fdl  Guilherme só aparece aqui em casa p fazer barb...    5    4   \n",
       "2  line_fdl                Amo cheiro de café pela manhã.. ???    5    4   \n",
       "3  line_fdl                                      Tô meio aérea    4    2   \n",
       "4  line_fdl  Tô mega cansada nn sei que cançaso é esse, só ...    2    4   \n",
       "\n",
       "                      cit                 data  dia  \n",
       "0  Rio de Janeiro, Brasil   10/27/2017 0:17:49    6  \n",
       "1  Rio de Janeiro, Brasil  10/26/2017 20:47:35    5  \n",
       "2  Rio de Janeiro, Brasil   10/26/2017 9:45:33    5  \n",
       "3  Rio de Janeiro, Brasil   10/26/2017 1:24:55    5  \n",
       "4  Rio de Janeiro, Brasil   10/26/2017 0:56:21    5  "
      ]
     },
     "execution_count": 26,
     "metadata": {},
     "output_type": "execute_result"
    }
   ],
   "source": [
    "#datasetInFrame.describe()\n",
    "datasetInFrame.head()"
   ]
  },
  {
   "cell_type": "markdown",
   "metadata": {},
   "source": [
    "## Verificando a distribuição das Classes:\n",
    "Intensidade: 1 a 7\n",
    "Valência: 1 a 7"
   ]
  },
  {
   "cell_type": "code",
   "execution_count": 27,
   "metadata": {
    "collapsed": false
   },
   "outputs": [
    {
     "data": {
      "text/plain": [
       "{1: 129, 2: 218, 3: 243, 4: 273, 5: 229, 6: 156, 7: 70}"
      ]
     },
     "execution_count": 27,
     "metadata": {},
     "output_type": "execute_result"
    }
   ],
   "source": [
    "totalIntensityClasses = {}\n",
    "\n",
    "for i in range(1,8):\n",
    "    totalIntensityClasses[i] = datasetInFrame[datasetInFrame.int == i][\"txt\"].count()\n",
    "totalIntensityClasses"
   ]
  },
  {
   "cell_type": "code",
   "execution_count": 28,
   "metadata": {
    "collapsed": false
   },
   "outputs": [
    {
     "data": {
      "text/plain": [
       "<matplotlib.axes._subplots.AxesSubplot at 0xb30d495978>"
      ]
     },
     "execution_count": 28,
     "metadata": {},
     "output_type": "execute_result"
    },
    {
     "data": {
      "image/png": "[encoded data removed]",
      "text/plain": [
       "<matplotlib.figure.Figure at 0xb30d4e91d0>"
      ]
     },
     "metadata": {},
     "output_type": "display_data"
    }
   ],
   "source": [
    "sns.countplot(x='int', data=datasetInFrame)"
   ]
  },
  {
   "cell_type": "code",
   "execution_count": 29,
   "metadata": {
    "collapsed": false
   },
   "outputs": [
    {
     "data": {
      "text/plain": [
       "{1: 49, 2: 189, 3: 316, 4: 225, 5: 413, 6: 106, 7: 20}"
      ]
     },
     "execution_count": 29,
     "metadata": {},
     "output_type": "execute_result"
    }
   ],
   "source": [
    "totalValencyClasses = {}\n",
    "\n",
    "for i in range(1,8):\n",
    "    totalValencyClasses[i] = datasetInFrame[datasetInFrame.val == i][\"txt\"].count()\n",
    "totalValencyClasses"
   ]
  },
  {
   "cell_type": "code",
   "execution_count": 30,
   "metadata": {
    "collapsed": false
   },
   "outputs": [
    {
     "data": {
      "text/plain": [
       "<matplotlib.axes._subplots.AxesSubplot at 0xb30d5848d0>"
      ]
     },
     "execution_count": 30,
     "metadata": {},
     "output_type": "execute_result"
    },
    {
     "data": {
      "image/png": "[encoded data removed]",
      "text/plain": [
       "<matplotlib.figure.Figure at 0xb30d4c2c88>"
      ]
     },
     "metadata": {},
     "output_type": "display_data"
    }
   ],
   "source": [
    "sns.countplot(x='val', data=datasetInFrame)"
   ]
  },
  {
   "cell_type": "markdown",
   "metadata": {},
   "source": [
    "## Separando data e hora"
   ]
  },
  {
   "cell_type": "code",
   "execution_count": 31,
   "metadata": {
    "collapsed": false
   },
   "outputs": [],
   "source": [
    "dateTime = datasetInFrame[\"data\"].apply(lambda  x: x.split(' '))\n",
    "date = dateTime.apply(lambda x: x[0])\n",
    "time = dateTime.apply(lambda x: x[1])\n",
    "datasetInFrame[\"date\"] = date\n",
    "datasetInFrame[\"time\"] = time\n",
    "del datasetInFrame[\"data\"]\n",
    "####\n",
    "#format = '%m/%d/%Y %H:%M:%S'\n",
    "#datetime.strptime(\"10/27/2017 0:17:49\", format)"
   ]
  },
  {
   "cell_type": "markdown",
   "metadata": {},
   "source": [
    "## Substituindo Valores Para Cidade\n",
    "1. Removendo o País;\n",
    "2. Substituindo: \n",
    "    * Rio de Janeiro = 1 \n",
    "    * São Paulo = 2"
   ]
  },
  {
   "cell_type": "code",
   "execution_count": 32,
   "metadata": {
    "collapsed": false
   },
   "outputs": [],
   "source": [
    "city = datasetInFrame[\"cit\"].apply(lambda x: x.split(','))\n",
    "datasetInFrame[\"cit\"] = city.apply(lambda x: x[0])"
   ]
  },
  {
   "cell_type": "code",
   "execution_count": 15,
   "metadata": {
    "collapsed": true
   },
   "outputs": [],
   "source": [
    "#datasetInFrame[\"cit\"] = datasetInFrame[\"cit\"].apply(lambda x: 1 if x == \"Rio de Janeiro\" else 2)\n",
    "#datasetInFrame"
   ]
  },
  {
   "cell_type": "markdown",
   "metadata": {},
   "source": [
    "## Criando *features*\n",
    "1. isWeekend? [dia 6 após às 19:00, dia 7  e  1 até 19:00 sim 0 não\n",
    "2. isMad? 1 sim 0 não"
   ]
  },
  {
   "cell_type": "code",
   "execution_count": 33,
   "metadata": {
    "collapsed": false,
    "scrolled": true
   },
   "outputs": [
    {
     "data": {
      "text/html": [
       "<div>\n",
       "<table border=\"1\" class=\"dataframe\">\n",
       "  <thead>\n",
       "    <tr style=\"text-align: right;\">\n",
       "      <th></th>\n",
       "      <th>id</th>\n",
       "      <th>txt</th>\n",
       "      <th>val</th>\n",
       "      <th>int</th>\n",
       "      <th>cit</th>\n",
       "      <th>dia</th>\n",
       "      <th>date</th>\n",
       "      <th>time</th>\n",
       "      <th>isWeekend</th>\n",
       "    </tr>\n",
       "  </thead>\n",
       "  <tbody>\n",
       "    <tr>\n",
       "      <th>0</th>\n",
       "      <td>line_fdl</td>\n",
       "      <td>Tô tão pensativa ultimamente, nn tô me sentind...</td>\n",
       "      <td>3</td>\n",
       "      <td>3</td>\n",
       "      <td>Rio de Janeiro</td>\n",
       "      <td>6</td>\n",
       "      <td>10/27/2017</td>\n",
       "      <td>0:17:49</td>\n",
       "      <td>0.0</td>\n",
       "    </tr>\n",
       "    <tr>\n",
       "      <th>1</th>\n",
       "      <td>line_fdl</td>\n",
       "      <td>Guilherme só aparece aqui em casa p fazer barb...</td>\n",
       "      <td>5</td>\n",
       "      <td>4</td>\n",
       "      <td>Rio de Janeiro</td>\n",
       "      <td>5</td>\n",
       "      <td>10/26/2017</td>\n",
       "      <td>20:47:35</td>\n",
       "      <td>0.0</td>\n",
       "    </tr>\n",
       "    <tr>\n",
       "      <th>2</th>\n",
       "      <td>line_fdl</td>\n",
       "      <td>Amo cheiro de café pela manhã.. ???</td>\n",
       "      <td>5</td>\n",
       "      <td>4</td>\n",
       "      <td>Rio de Janeiro</td>\n",
       "      <td>5</td>\n",
       "      <td>10/26/2017</td>\n",
       "      <td>9:45:33</td>\n",
       "      <td>0.0</td>\n",
       "    </tr>\n",
       "    <tr>\n",
       "      <th>3</th>\n",
       "      <td>line_fdl</td>\n",
       "      <td>Tô meio aérea</td>\n",
       "      <td>4</td>\n",
       "      <td>2</td>\n",
       "      <td>Rio de Janeiro</td>\n",
       "      <td>5</td>\n",
       "      <td>10/26/2017</td>\n",
       "      <td>1:24:55</td>\n",
       "      <td>0.0</td>\n",
       "    </tr>\n",
       "    <tr>\n",
       "      <th>4</th>\n",
       "      <td>line_fdl</td>\n",
       "      <td>Tô mega cansada nn sei que cançaso é esse, só ...</td>\n",
       "      <td>2</td>\n",
       "      <td>4</td>\n",
       "      <td>Rio de Janeiro</td>\n",
       "      <td>5</td>\n",
       "      <td>10/26/2017</td>\n",
       "      <td>0:56:21</td>\n",
       "      <td>0.0</td>\n",
       "    </tr>\n",
       "  </tbody>\n",
       "</table>\n",
       "</div>"
      ],
      "text/plain": [
       "         id                                                txt  val  int  \\\n",
       "0  line_fdl  Tô tão pensativa ultimamente, nn tô me sentind...    3    3   \n",
       "1  line_fdl  Guilherme só aparece aqui em casa p fazer barb...    5    4   \n",
       "2  line_fdl                Amo cheiro de café pela manhã.. ???    5    4   \n",
       "3  line_fdl                                      Tô meio aérea    4    2   \n",
       "4  line_fdl  Tô mega cansada nn sei que cançaso é esse, só ...    2    4   \n",
       "\n",
       "              cit  dia        date      time  isWeekend  \n",
       "0  Rio de Janeiro    6  10/27/2017   0:17:49        0.0  \n",
       "1  Rio de Janeiro    5  10/26/2017  20:47:35        0.0  \n",
       "2  Rio de Janeiro    5  10/26/2017   9:45:33        0.0  \n",
       "3  Rio de Janeiro    5  10/26/2017   1:24:55        0.0  \n",
       "4  Rio de Janeiro    5  10/26/2017   0:56:21        0.0  "
      ]
     },
     "execution_count": 33,
     "metadata": {},
     "output_type": "execute_result"
    }
   ],
   "source": [
    "def isWeekend(day,hour):\n",
    "    format = '%H:%M:%S'\n",
    "    hour = datetime.strptime(hour, format)\n",
    "    limitWeekend = datetime.strptime(\"19:00:00\", format)\n",
    "    if (day == 6) and (hour >= limitWeekend):\n",
    "        return 1\n",
    "    elif (day == 1) and (hour < limitWeekend):\n",
    "        return 1\n",
    "    elif day == 7:\n",
    "        return 1\n",
    "    else:\n",
    "        return 0\n",
    "\n",
    "datasetInFrame['isWeekend'] = pd.Series(np.zeros(len(datasetInFrame)), index=datasetInFrame.index)\n",
    "\n",
    "for index, row in datasetInFrame.iterrows():\n",
    "    datasetInFrame.loc[index,\"isWeekend\"] = isWeekend(row[\"dia\"],row[\"time\"])\n",
    "datasetInFrame.head()"
   ]
  },
  {
   "cell_type": "code",
   "execution_count": 34,
   "metadata": {
    "collapsed": false
   },
   "outputs": [
    {
     "data": {
      "text/html": [
       "<div>\n",
       "<table border=\"1\" class=\"dataframe\">\n",
       "  <thead>\n",
       "    <tr style=\"text-align: right;\">\n",
       "      <th></th>\n",
       "      <th>id</th>\n",
       "      <th>txt</th>\n",
       "      <th>val</th>\n",
       "      <th>int</th>\n",
       "      <th>cit</th>\n",
       "      <th>dia</th>\n",
       "      <th>date</th>\n",
       "      <th>time</th>\n",
       "      <th>isWeekend</th>\n",
       "      <th>isMad</th>\n",
       "    </tr>\n",
       "  </thead>\n",
       "  <tbody>\n",
       "    <tr>\n",
       "      <th>0</th>\n",
       "      <td>line_fdl</td>\n",
       "      <td>Tô tão pensativa ultimamente, nn tô me sentind...</td>\n",
       "      <td>3</td>\n",
       "      <td>3</td>\n",
       "      <td>Rio de Janeiro</td>\n",
       "      <td>6</td>\n",
       "      <td>10/27/2017</td>\n",
       "      <td>0:17:49</td>\n",
       "      <td>0.0</td>\n",
       "      <td>1.0</td>\n",
       "    </tr>\n",
       "    <tr>\n",
       "      <th>1</th>\n",
       "      <td>line_fdl</td>\n",
       "      <td>Guilherme só aparece aqui em casa p fazer barb...</td>\n",
       "      <td>5</td>\n",
       "      <td>4</td>\n",
       "      <td>Rio de Janeiro</td>\n",
       "      <td>5</td>\n",
       "      <td>10/26/2017</td>\n",
       "      <td>20:47:35</td>\n",
       "      <td>0.0</td>\n",
       "      <td>0.0</td>\n",
       "    </tr>\n",
       "    <tr>\n",
       "      <th>2</th>\n",
       "      <td>line_fdl</td>\n",
       "      <td>Amo cheiro de café pela manhã.. ???</td>\n",
       "      <td>5</td>\n",
       "      <td>4</td>\n",
       "      <td>Rio de Janeiro</td>\n",
       "      <td>5</td>\n",
       "      <td>10/26/2017</td>\n",
       "      <td>9:45:33</td>\n",
       "      <td>0.0</td>\n",
       "      <td>0.0</td>\n",
       "    </tr>\n",
       "    <tr>\n",
       "      <th>3</th>\n",
       "      <td>line_fdl</td>\n",
       "      <td>Tô meio aérea</td>\n",
       "      <td>4</td>\n",
       "      <td>2</td>\n",
       "      <td>Rio de Janeiro</td>\n",
       "      <td>5</td>\n",
       "      <td>10/26/2017</td>\n",
       "      <td>1:24:55</td>\n",
       "      <td>0.0</td>\n",
       "      <td>1.0</td>\n",
       "    </tr>\n",
       "    <tr>\n",
       "      <th>4</th>\n",
       "      <td>line_fdl</td>\n",
       "      <td>Tô mega cansada nn sei que cançaso é esse, só ...</td>\n",
       "      <td>2</td>\n",
       "      <td>4</td>\n",
       "      <td>Rio de Janeiro</td>\n",
       "      <td>5</td>\n",
       "      <td>10/26/2017</td>\n",
       "      <td>0:56:21</td>\n",
       "      <td>0.0</td>\n",
       "      <td>1.0</td>\n",
       "    </tr>\n",
       "  </tbody>\n",
       "</table>\n",
       "</div>"
      ],
      "text/plain": [
       "         id                                                txt  val  int  \\\n",
       "0  line_fdl  Tô tão pensativa ultimamente, nn tô me sentind...    3    3   \n",
       "1  line_fdl  Guilherme só aparece aqui em casa p fazer barb...    5    4   \n",
       "2  line_fdl                Amo cheiro de café pela manhã.. ???    5    4   \n",
       "3  line_fdl                                      Tô meio aérea    4    2   \n",
       "4  line_fdl  Tô mega cansada nn sei que cançaso é esse, só ...    2    4   \n",
       "\n",
       "              cit  dia        date      time  isWeekend  isMad  \n",
       "0  Rio de Janeiro    6  10/27/2017   0:17:49        0.0    1.0  \n",
       "1  Rio de Janeiro    5  10/26/2017  20:47:35        0.0    0.0  \n",
       "2  Rio de Janeiro    5  10/26/2017   9:45:33        0.0    0.0  \n",
       "3  Rio de Janeiro    5  10/26/2017   1:24:55        0.0    1.0  \n",
       "4  Rio de Janeiro    5  10/26/2017   0:56:21        0.0    1.0  "
      ]
     },
     "execution_count": 34,
     "metadata": {},
     "output_type": "execute_result"
    }
   ],
   "source": [
    "def isMad(hour):\n",
    "    format = '%H:%M:%S'\n",
    "    hour = datetime.strptime(hour, format)\n",
    "    initLimit = datetime.strptime(\"23:00:00\", format)\n",
    "    endLimit = datetime.strptime(\"05:00:00\", format)\n",
    "    \n",
    "    if (hour >= initLimit) or (hour < endLimit):\n",
    "        return 1\n",
    "    else:\n",
    "        return 0\n",
    "\n",
    "    \n",
    "datasetInFrame['isMad'] = pd.Series(np.zeros(len(datasetInFrame)), index=datasetInFrame.index)\n",
    "\n",
    "for index, row in datasetInFrame.iterrows():\n",
    "    datasetInFrame.loc[index,\"isMad\"] = isMad(row[\"time\"])\n",
    "datasetInFrame.head()"
   ]
  },
  {
   "cell_type": "markdown",
   "metadata": {},
   "source": [
    "## Histogramas do Dataset"
   ]
  },
  {
   "cell_type": "markdown",
   "metadata": {},
   "source": [
    "### Valência entre Final de Semana (1.0) e Dia de Semana (0.0)"
   ]
  },
  {
   "cell_type": "code",
   "execution_count": 35,
   "metadata": {
    "collapsed": false
   },
   "outputs": [
    {
     "data": {
      "text/plain": [
       "array([<matplotlib.axes._subplots.AxesSubplot object at 0x000000B30B581860>,\n",
       "       <matplotlib.axes._subplots.AxesSubplot object at 0x000000B30D77B7B8>], dtype=object)"
      ]
     },
     "execution_count": 35,
     "metadata": {},
     "output_type": "execute_result"
    },
    {
     "data": {
      "image/png": "[encoded data removed]",
      "text/plain": [
       "<matplotlib.figure.Figure at 0xb30d717eb8>"
      ]
     },
     "metadata": {},
     "output_type": "display_data"
    }
   ],
   "source": [
    "#Valência em Fim de Semana\n",
    "datasetInFrame.hist(column='val',by='isWeekend', bins=10)"
   ]
  },
  {
   "cell_type": "markdown",
   "metadata": {},
   "source": [
    "### Valência na Madrugada (1.0) e Não (0.0)"
   ]
  },
  {
   "cell_type": "code",
   "execution_count": 44,
   "metadata": {
    "collapsed": false
   },
   "outputs": [
    {
     "data": {
      "text/plain": [
       "array([<matplotlib.axes._subplots.AxesSubplot object at 0x000000B31035CD68>,\n",
       "       <matplotlib.axes._subplots.AxesSubplot object at 0x000000B3103ED240>], dtype=object)"
      ]
     },
     "execution_count": 44,
     "metadata": {},
     "output_type": "execute_result"
    },
    {
     "data": {
      "image/png": "[encoded data removed]",
      "text/plain": [
       "<matplotlib.figure.Figure at 0xb30fda5fd0>"
      ]
     },
     "metadata": {},
     "output_type": "display_data"
    }
   ],
   "source": [
    "#Valência na Madrugada\n",
    "datasetInFrame.hist(column='val',by='isMad', bins=10)"
   ]
  },
  {
   "cell_type": "markdown",
   "metadata": {},
   "source": [
    "### Valência por Cidade"
   ]
  },
  {
   "cell_type": "code",
   "execution_count": 36,
   "metadata": {
    "collapsed": false
   },
   "outputs": [
    {
     "data": {
      "text/plain": [
       "array([<matplotlib.axes._subplots.AxesSubplot object at 0x000000B30D85B198>,\n",
       "       <matplotlib.axes._subplots.AxesSubplot object at 0x000000B30D8EA860>], dtype=object)"
      ]
     },
     "execution_count": 36,
     "metadata": {},
     "output_type": "execute_result"
    },
    {
     "data": {
      "image/png": "[encoded data removed]",
      "text/plain": [
       "<matplotlib.figure.Figure at 0xb30d86a438>"
      ]
     },
     "metadata": {},
     "output_type": "display_data"
    }
   ],
   "source": [
    "#Valência por Cidade\n",
    "datasetInFrame.hist(column='val',by='cit', bins=10)"
   ]
  },
  {
   "cell_type": "markdown",
   "metadata": {},
   "source": [
    "### Valência por Intensidade"
   ]
  },
  {
   "cell_type": "code",
   "execution_count": 37,
   "metadata": {
    "collapsed": false
   },
   "outputs": [
    {
     "data": {
      "text/plain": [
       "array([[<matplotlib.axes._subplots.AxesSubplot object at 0x000000B30D9B7C88>,\n",
       "        <matplotlib.axes._subplots.AxesSubplot object at 0x000000B30DA4FB00>,\n",
       "        <matplotlib.axes._subplots.AxesSubplot object at 0x000000B30DABD668>],\n",
       "       [<matplotlib.axes._subplots.AxesSubplot object at 0x000000B30DB134E0>,\n",
       "        <matplotlib.axes._subplots.AxesSubplot object at 0x000000B30DB78F28>,\n",
       "        <matplotlib.axes._subplots.AxesSubplot object at 0x000000B30DB78F60>],\n",
       "       [<matplotlib.axes._subplots.AxesSubplot object at 0x000000B30DBF4588>,\n",
       "        <matplotlib.axes._subplots.AxesSubplot object at 0x000000B30DC4F4E0>,\n",
       "        <matplotlib.axes._subplots.AxesSubplot object at 0x000000B30DCB2EF0>]], dtype=object)"
      ]
     },
     "execution_count": 37,
     "metadata": {},
     "output_type": "execute_result"
    },
    {
     "data": {
      "image/png": "[encoded data removed]",
      "text/plain": [
       "<matplotlib.figure.Figure at 0xb30d9ddc88>"
      ]
     },
     "metadata": {},
     "output_type": "display_data"
    }
   ],
   "source": [
    "#Valência por Intensidade\n",
    "datasetInFrame.hist(column='val',by='int', bins=10)"
   ]
  },
  {
   "cell_type": "markdown",
   "metadata": {},
   "source": [
    "### Valência por Dia"
   ]
  },
  {
   "cell_type": "code",
   "execution_count": 39,
   "metadata": {
    "collapsed": false
   },
   "outputs": [
    {
     "data": {
      "text/plain": [
       "array([[<matplotlib.axes._subplots.AxesSubplot object at 0x000000B30E2ACD30>,\n",
       "        <matplotlib.axes._subplots.AxesSubplot object at 0x000000B30E491780>,\n",
       "        <matplotlib.axes._subplots.AxesSubplot object at 0x000000B30E4FA400>],\n",
       "       [<matplotlib.axes._subplots.AxesSubplot object at 0x000000B30E54AE10>,\n",
       "        <matplotlib.axes._subplots.AxesSubplot object at 0x000000B30E5B9780>,\n",
       "        <matplotlib.axes._subplots.AxesSubplot object at 0x000000B30E5B97B8>],\n",
       "       [<matplotlib.axes._subplots.AxesSubplot object at 0x000000B30E677F60>,\n",
       "        <matplotlib.axes._subplots.AxesSubplot object at 0x000000B30E090438>,\n",
       "        <matplotlib.axes._subplots.AxesSubplot object at 0x000000B30E6F3DA0>],\n",
       "       [<matplotlib.axes._subplots.AxesSubplot object at 0x000000B30E74C860>,\n",
       "        <matplotlib.axes._subplots.AxesSubplot object at 0x000000B30E7B8390>,\n",
       "        <matplotlib.axes._subplots.AxesSubplot object at 0x000000B30E811320>]], dtype=object)"
      ]
     },
     "execution_count": 39,
     "metadata": {},
     "output_type": "execute_result"
    },
    {
     "data": {
      "image/png": "[encoded data removed]",
      "text/plain": [
       "<matplotlib.figure.Figure at 0xb30e04ba20>"
      ]
     },
     "metadata": {},
     "output_type": "display_data"
    }
   ],
   "source": [
    "datasetInFrame.hist(column='val',by='date', bins=10)"
   ]
  },
  {
   "cell_type": "markdown",
   "metadata": {},
   "source": []
  },
  {
   "cell_type": "markdown",
   "metadata": {},
   "source": [
    "## Removendo colunas\n",
    "\n",
    "Colunas removidas: date, time, cit e int"
   ]
  },
  {
   "cell_type": "code",
   "execution_count": 45,
   "metadata": {
    "collapsed": false
   },
   "outputs": [
    {
     "name": "stdout",
     "output_type": "stream",
     "text": [
      "line_fdl\n",
      "brunaarvi\n",
      "FabricioGemada\n",
      "sabrina_bazeth\n",
      "glendunkelheit\n",
      "SabrinaBorgez\n",
      "dhiulia_robert\n",
      "FeAmancio22\n",
      "anneray_hd\n",
      "mihbarbosaBFR\n",
      "pxxxxxju\n",
      "ElisianeAzeved\n",
      "BorjaFrancisco_\n",
      "maaapedrosa\n",
      "mariaclarinham\n",
      "karenerak124\n",
      "breendoo18\n",
      "fabibrito01\n",
      "SilvaFani126\n",
      "raydeSolll\n",
      "IGonclaves\n",
      "_isarmento\n",
      "dirtylixo\n"
     ]
    }
   ],
   "source": [
    "for i in datasetInFrame['id'].unique():\n",
    "    print(i)"
   ]
  },
  {
   "cell_type": "markdown",
   "metadata": {},
   "source": [
    "## Balanceando os dados"
   ]
  },
  {
   "cell_type": "code",
   "execution_count": 46,
   "metadata": {
    "collapsed": false
   },
   "outputs": [
    {
     "data": {
      "text/html": [
       "<div>\n",
       "<table border=\"1\" class=\"dataframe\">\n",
       "  <thead>\n",
       "    <tr style=\"text-align: right;\">\n",
       "      <th></th>\n",
       "      <th>id</th>\n",
       "      <th>txt</th>\n",
       "      <th>val</th>\n",
       "      <th>int</th>\n",
       "      <th>cit</th>\n",
       "      <th>dia</th>\n",
       "      <th>date</th>\n",
       "      <th>time</th>\n",
       "      <th>isWeekend</th>\n",
       "      <th>isMad</th>\n",
       "    </tr>\n",
       "  </thead>\n",
       "  <tbody>\n",
       "    <tr>\n",
       "      <th>0</th>\n",
       "      <td>line_fdl</td>\n",
       "      <td>Tô tão pensativa ultimamente, nn tô me sentind...</td>\n",
       "      <td>3</td>\n",
       "      <td>3</td>\n",
       "      <td>Rio de Janeiro</td>\n",
       "      <td>6</td>\n",
       "      <td>10/27/2017</td>\n",
       "      <td>0:17:49</td>\n",
       "      <td>0.0</td>\n",
       "      <td>1.0</td>\n",
       "    </tr>\n",
       "    <tr>\n",
       "      <th>1</th>\n",
       "      <td>line_fdl</td>\n",
       "      <td>Joana fez eu me arrumar atoa affff cr</td>\n",
       "      <td>3</td>\n",
       "      <td>5</td>\n",
       "      <td>Rio de Janeiro</td>\n",
       "      <td>4</td>\n",
       "      <td>10/25/2017</td>\n",
       "      <td>0:45:39</td>\n",
       "      <td>0.0</td>\n",
       "      <td>1.0</td>\n",
       "    </tr>\n",
       "    <tr>\n",
       "      <th>2</th>\n",
       "      <td>line_fdl</td>\n",
       "      <td>Tô tão sem paciência sem.or</td>\n",
       "      <td>3</td>\n",
       "      <td>5</td>\n",
       "      <td>Rio de Janeiro</td>\n",
       "      <td>6</td>\n",
       "      <td>10/20/2017</td>\n",
       "      <td>23:25:23</td>\n",
       "      <td>1.0</td>\n",
       "      <td>1.0</td>\n",
       "    </tr>\n",
       "    <tr>\n",
       "      <th>3</th>\n",
       "      <td>line_fdl</td>\n",
       "      <td>Até gosto de calor mas tá de mais mds scrr</td>\n",
       "      <td>3</td>\n",
       "      <td>4</td>\n",
       "      <td>Rio de Janeiro</td>\n",
       "      <td>5</td>\n",
       "      <td>10/19/2017</td>\n",
       "      <td>22:36:52</td>\n",
       "      <td>0.0</td>\n",
       "      <td>0.0</td>\n",
       "    </tr>\n",
       "    <tr>\n",
       "      <th>4</th>\n",
       "      <td>line_fdl</td>\n",
       "      <td>Tô com uma dorzinha d cabeça q ta me dx enjoad...</td>\n",
       "      <td>3</td>\n",
       "      <td>4</td>\n",
       "      <td>Rio de Janeiro</td>\n",
       "      <td>4</td>\n",
       "      <td>10/18/2017</td>\n",
       "      <td>22:33:22</td>\n",
       "      <td>0.0</td>\n",
       "      <td>0.0</td>\n",
       "    </tr>\n",
       "  </tbody>\n",
       "</table>\n",
       "</div>"
      ],
      "text/plain": [
       "         id                                                txt  val  int  \\\n",
       "0  line_fdl  Tô tão pensativa ultimamente, nn tô me sentind...    3    3   \n",
       "1  line_fdl              Joana fez eu me arrumar atoa affff cr    3    5   \n",
       "2  line_fdl                        Tô tão sem paciência sem.or    3    5   \n",
       "3  line_fdl         Até gosto de calor mas tá de mais mds scrr    3    4   \n",
       "4  line_fdl  Tô com uma dorzinha d cabeça q ta me dx enjoad...    3    4   \n",
       "\n",
       "              cit  dia        date      time  isWeekend  isMad  \n",
       "0  Rio de Janeiro    6  10/27/2017   0:17:49        0.0    1.0  \n",
       "1  Rio de Janeiro    4  10/25/2017   0:45:39        0.0    1.0  \n",
       "2  Rio de Janeiro    6  10/20/2017  23:25:23        1.0    1.0  \n",
       "3  Rio de Janeiro    5  10/19/2017  22:36:52        0.0    0.0  \n",
       "4  Rio de Janeiro    4  10/18/2017  22:33:22        0.0    0.0  "
      ]
     },
     "execution_count": 46,
     "metadata": {},
     "output_type": "execute_result"
    }
   ],
   "source": [
    "balancedDataset = pd.DataFrame()\n",
    "limitSamples = 100\n",
    "for i in datasetInFrame['val'].unique():\n",
    "    balancedDataset = balancedDataset.append(datasetInFrame[datasetInFrame['val'] == i].iloc[:limitSamples],ignore_index=True)\n",
    "    \n",
    "balancedDataset.head()"
   ]
  },
  {
   "cell_type": "code",
   "execution_count": 47,
   "metadata": {
    "collapsed": false
   },
   "outputs": [
    {
     "data": {
      "text/plain": [
       "<matplotlib.axes._subplots.AxesSubplot at 0xb310479a20>"
      ]
     },
     "execution_count": 47,
     "metadata": {},
     "output_type": "execute_result"
    },
    {
     "data": {
      "image/png": "[encoded data removed]",
      "text/plain": [
       "<matplotlib.figure.Figure at 0xb310428390>"
      ]
     },
     "metadata": {},
     "output_type": "display_data"
    }
   ],
   "source": [
    "sns.countplot(x='val', data=balancedDataset)"
   ]
  },
  {
   "cell_type": "code",
   "execution_count": 48,
   "metadata": {
    "collapsed": false
   },
   "outputs": [
    {
     "data": {
      "text/plain": [
       "<matplotlib.axes._subplots.AxesSubplot at 0xb310511a20>"
      ]
     },
     "execution_count": 48,
     "metadata": {},
     "output_type": "execute_result"
    },
    {
     "data": {
      "image/png": "[encoded data removed]",
      "text/plain": [
       "<matplotlib.figure.Figure at 0xb310466be0>"
      ]
     },
     "metadata": {},
     "output_type": "display_data"
    }
   ],
   "source": [
    "#Seleciona aleatóriamente\n",
    "dataset = balancedDataset.sample(len(balancedDataset), replace=True)\n",
    "sns.countplot(x='val', data=dataset)"
   ]
  },
  {
   "cell_type": "code",
   "execution_count": 49,
   "metadata": {
    "collapsed": false
   },
   "outputs": [
    {
     "data": {
      "text/html": [
       "<div>\n",
       "<table border=\"1\" class=\"dataframe\">\n",
       "  <thead>\n",
       "    <tr style=\"text-align: right;\">\n",
       "      <th></th>\n",
       "      <th>id</th>\n",
       "      <th>txt</th>\n",
       "      <th>val</th>\n",
       "      <th>int</th>\n",
       "      <th>cit</th>\n",
       "      <th>dia</th>\n",
       "      <th>date</th>\n",
       "      <th>time</th>\n",
       "      <th>isWeekend</th>\n",
       "      <th>isMad</th>\n",
       "    </tr>\n",
       "  </thead>\n",
       "  <tbody>\n",
       "    <tr>\n",
       "      <th>261</th>\n",
       "      <td>dhiulia_robert</td>\n",
       "      <td>Como me satisfazer na cama: Não me acorde.</td>\n",
       "      <td>4</td>\n",
       "      <td>5</td>\n",
       "      <td>Rio de Janeiro</td>\n",
       "      <td>5</td>\n",
       "      <td>10/26/2017</td>\n",
       "      <td>23:03:41</td>\n",
       "      <td>0.0</td>\n",
       "      <td>1.0</td>\n",
       "    </tr>\n",
       "    <tr>\n",
       "      <th>435</th>\n",
       "      <td>dhiulia_robert</td>\n",
       "      <td>Minha professora me convidou pra ir pro aniver...</td>\n",
       "      <td>6</td>\n",
       "      <td>5</td>\n",
       "      <td>Rio de Janeiro</td>\n",
       "      <td>3</td>\n",
       "      <td>10/17/2017</td>\n",
       "      <td>3:05:44</td>\n",
       "      <td>0.0</td>\n",
       "      <td>1.0</td>\n",
       "    </tr>\n",
       "    <tr>\n",
       "      <th>446</th>\n",
       "      <td>pxxxxxju</td>\n",
       "      <td>Eu e Fabíola estamos mt entendedoras do prêmio...</td>\n",
       "      <td>6</td>\n",
       "      <td>4</td>\n",
       "      <td>Rio de Janeiro</td>\n",
       "      <td>4</td>\n",
       "      <td>10/25/2017</td>\n",
       "      <td>2:24:30</td>\n",
       "      <td>0.0</td>\n",
       "      <td>1.0</td>\n",
       "    </tr>\n",
       "    <tr>\n",
       "      <th>341</th>\n",
       "      <td>sabrina_bazeth</td>\n",
       "      <td>Crlhhh mo fome da porra...</td>\n",
       "      <td>2</td>\n",
       "      <td>5</td>\n",
       "      <td>Rio de Janeiro</td>\n",
       "      <td>5</td>\n",
       "      <td>10/19/2017</td>\n",
       "      <td>16:22:14</td>\n",
       "      <td>0.0</td>\n",
       "      <td>0.0</td>\n",
       "    </tr>\n",
       "    <tr>\n",
       "      <th>510</th>\n",
       "      <td>dhiulia_robert</td>\n",
       "      <td>Mano ler aquilo tudo me deixou muito mal??</td>\n",
       "      <td>1</td>\n",
       "      <td>4</td>\n",
       "      <td>Rio de Janeiro</td>\n",
       "      <td>6</td>\n",
       "      <td>10/20/2017</td>\n",
       "      <td>22:57:27</td>\n",
       "      <td>1.0</td>\n",
       "      <td>0.0</td>\n",
       "    </tr>\n",
       "  </tbody>\n",
       "</table>\n",
       "</div>"
      ],
      "text/plain": [
       "                 id                                                txt  val  \\\n",
       "261  dhiulia_robert         Como me satisfazer na cama: Não me acorde.    4   \n",
       "435  dhiulia_robert  Minha professora me convidou pra ir pro aniver...    6   \n",
       "446        pxxxxxju  Eu e Fabíola estamos mt entendedoras do prêmio...    6   \n",
       "341  sabrina_bazeth                         Crlhhh mo fome da porra...    2   \n",
       "510  dhiulia_robert         Mano ler aquilo tudo me deixou muito mal??    1   \n",
       "\n",
       "     int             cit  dia        date      time  isWeekend  isMad  \n",
       "261    5  Rio de Janeiro    5  10/26/2017  23:03:41        0.0    1.0  \n",
       "435    5  Rio de Janeiro    3  10/17/2017   3:05:44        0.0    1.0  \n",
       "446    4  Rio de Janeiro    4  10/25/2017   2:24:30        0.0    1.0  \n",
       "341    5  Rio de Janeiro    5  10/19/2017  16:22:14        0.0    0.0  \n",
       "510    4  Rio de Janeiro    6  10/20/2017  22:57:27        1.0    0.0  "
      ]
     },
     "execution_count": 49,
     "metadata": {},
     "output_type": "execute_result"
    }
   ],
   "source": [
    "dataset.head()"
   ]
  },
  {
   "cell_type": "markdown",
   "metadata": {},
   "source": [
    "## Separando o Dataset"
   ]
  },
  {
   "cell_type": "code",
   "execution_count": 51,
   "metadata": {
    "collapsed": false
   },
   "outputs": [
    {
     "name": "stdout",
     "output_type": "stream",
     "text": [
      "225\n",
      "106\n",
      "189\n",
      "49\n",
      "20\n",
      "316\n",
      "413\n"
     ]
    }
   ],
   "source": [
    "for i in dataset['val'].unique():\n",
    "    x= datasetInFrame[datasetInFrame['val'] == i]\n",
    "    print(len(x))"
   ]
  },
  {
   "cell_type": "code",
   "execution_count": null,
   "metadata": {
    "collapsed": true
   },
   "outputs": [],
   "source": [
    "#Separação dos targets\n",
    "train = []\n",
    "trainTarget = []\n",
    "\n",
    "totalTrain = datasetInFrame.iloc[0:856]\n",
    "trainTarget = totalTrain[\"val\"].values\n",
    "del totalTrain[\"int\"]\n",
    "del totalTrain[\"val\"]\n",
    "train = totalTrain.values\n",
    "print(\"TREINO: \\nTamanho Vetor de Features: \", len(train),\"\\nTamanho Vetor de Label: \", len(trainTarget))"
   ]
  },
  {
   "cell_type": "code",
   "execution_count": null,
   "metadata": {
    "collapsed": true
   },
   "outputs": [],
   "source": [
    "#Separação dos targets\n",
    "test = []\n",
    "testTarget = []\n",
    "\n",
    "totalTest = datasetInFrame.iloc[857:1318]\n",
    "testTarget = totalTest[\"val\"].values\n",
    "del totalTest[\"int\"]\n",
    "del totalTest[\"val\"]\n",
    "test = totalTest.values\n",
    "print(\"TESTE:\\nTamanho Vetor de Features: \", len(test),\"\\nTamanho Vetor de Label: \", len(testTarget))"
   ]
  },
  {
   "cell_type": "markdown",
   "metadata": {},
   "source": [
    "## Adicionando *features* de texto\n",
    "1. Bag of words"
   ]
  },
  {
   "cell_type": "code",
   "execution_count": null,
   "metadata": {
    "collapsed": false
   },
   "outputs": [],
   "source": []
  },
  {
   "cell_type": "markdown",
   "metadata": {},
   "source": [
    "## Removendo caracteres especiais"
   ]
  },
  {
   "cell_type": "code",
   "execution_count": 52,
   "metadata": {
    "collapsed": false
   },
   "outputs": [
    {
     "data": {
      "text/html": [
       "<div>\n",
       "<table border=\"1\" class=\"dataframe\">\n",
       "  <thead>\n",
       "    <tr style=\"text-align: right;\">\n",
       "      <th></th>\n",
       "      <th>id</th>\n",
       "      <th>txt</th>\n",
       "      <th>val</th>\n",
       "      <th>int</th>\n",
       "      <th>cit</th>\n",
       "      <th>dia</th>\n",
       "      <th>date</th>\n",
       "      <th>time</th>\n",
       "      <th>isWeekend</th>\n",
       "      <th>isMad</th>\n",
       "    </tr>\n",
       "  </thead>\n",
       "  <tbody>\n",
       "    <tr>\n",
       "      <th>0</th>\n",
       "      <td>line_fdl</td>\n",
       "      <td>tô tão pensativa ultimamente nn tô me sentindo...</td>\n",
       "      <td>3</td>\n",
       "      <td>3</td>\n",
       "      <td>Rio de Janeiro</td>\n",
       "      <td>6</td>\n",
       "      <td>10/27/2017</td>\n",
       "      <td>0:17:49</td>\n",
       "      <td>0.0</td>\n",
       "      <td>1.0</td>\n",
       "    </tr>\n",
       "    <tr>\n",
       "      <th>1</th>\n",
       "      <td>line_fdl</td>\n",
       "      <td>joana fez eu me arrumar atoa affff cr</td>\n",
       "      <td>3</td>\n",
       "      <td>5</td>\n",
       "      <td>Rio de Janeiro</td>\n",
       "      <td>4</td>\n",
       "      <td>10/25/2017</td>\n",
       "      <td>0:45:39</td>\n",
       "      <td>0.0</td>\n",
       "      <td>1.0</td>\n",
       "    </tr>\n",
       "    <tr>\n",
       "      <th>2</th>\n",
       "      <td>line_fdl</td>\n",
       "      <td>tô tão sem paciência semor</td>\n",
       "      <td>3</td>\n",
       "      <td>5</td>\n",
       "      <td>Rio de Janeiro</td>\n",
       "      <td>6</td>\n",
       "      <td>10/20/2017</td>\n",
       "      <td>23:25:23</td>\n",
       "      <td>1.0</td>\n",
       "      <td>1.0</td>\n",
       "    </tr>\n",
       "    <tr>\n",
       "      <th>3</th>\n",
       "      <td>line_fdl</td>\n",
       "      <td>até gosto de calor mas tá de mais mds scrr</td>\n",
       "      <td>3</td>\n",
       "      <td>4</td>\n",
       "      <td>Rio de Janeiro</td>\n",
       "      <td>5</td>\n",
       "      <td>10/19/2017</td>\n",
       "      <td>22:36:52</td>\n",
       "      <td>0.0</td>\n",
       "      <td>0.0</td>\n",
       "    </tr>\n",
       "    <tr>\n",
       "      <th>4</th>\n",
       "      <td>line_fdl</td>\n",
       "      <td>tô com uma dorzinha d cabeça q ta me dx enjoad...</td>\n",
       "      <td>3</td>\n",
       "      <td>4</td>\n",
       "      <td>Rio de Janeiro</td>\n",
       "      <td>4</td>\n",
       "      <td>10/18/2017</td>\n",
       "      <td>22:33:22</td>\n",
       "      <td>0.0</td>\n",
       "      <td>0.0</td>\n",
       "    </tr>\n",
       "  </tbody>\n",
       "</table>\n",
       "</div>"
      ],
      "text/plain": [
       "         id                                                txt  val  int  \\\n",
       "0  line_fdl  tô tão pensativa ultimamente nn tô me sentindo...    3    3   \n",
       "1  line_fdl              joana fez eu me arrumar atoa affff cr    3    5   \n",
       "2  line_fdl                         tô tão sem paciência semor    3    5   \n",
       "3  line_fdl         até gosto de calor mas tá de mais mds scrr    3    4   \n",
       "4  line_fdl  tô com uma dorzinha d cabeça q ta me dx enjoad...    3    4   \n",
       "\n",
       "              cit  dia        date      time  isWeekend  isMad  \n",
       "0  Rio de Janeiro    6  10/27/2017   0:17:49        0.0    1.0  \n",
       "1  Rio de Janeiro    4  10/25/2017   0:45:39        0.0    1.0  \n",
       "2  Rio de Janeiro    6  10/20/2017  23:25:23        1.0    1.0  \n",
       "3  Rio de Janeiro    5  10/19/2017  22:36:52        0.0    0.0  \n",
       "4  Rio de Janeiro    4  10/18/2017  22:33:22        0.0    0.0  "
      ]
     },
     "execution_count": 52,
     "metadata": {},
     "output_type": "execute_result"
    }
   ],
   "source": [
    "sentences = [str(sentence).lower().replace(\"'\",\"\").replace(\".\",\"\").replace(\",\",\"\").replace('\"',\"\").replace(\"?\",\"\") for sentence in balancedDataset[\"txt\"]]\n",
    "balancedDataset[\"txt\"] = sentences\n",
    "balancedDataset.head()"
   ]
  },
  {
   "cell_type": "markdown",
   "metadata": {},
   "source": [
    "## Tokenizing"
   ]
  },
  {
   "cell_type": "code",
   "execution_count": 53,
   "metadata": {
    "collapsed": false
   },
   "outputs": [
    {
     "data": {
      "text/html": [
       "<div>\n",
       "<table border=\"1\" class=\"dataframe\">\n",
       "  <thead>\n",
       "    <tr style=\"text-align: right;\">\n",
       "      <th></th>\n",
       "      <th>id</th>\n",
       "      <th>txt</th>\n",
       "      <th>val</th>\n",
       "      <th>int</th>\n",
       "      <th>cit</th>\n",
       "      <th>dia</th>\n",
       "      <th>date</th>\n",
       "      <th>time</th>\n",
       "      <th>isWeekend</th>\n",
       "      <th>isMad</th>\n",
       "    </tr>\n",
       "  </thead>\n",
       "  <tbody>\n",
       "    <tr>\n",
       "      <th>0</th>\n",
       "      <td>line_fdl</td>\n",
       "      <td>[tô, tão, pensativa, ultimamente, nn, tô, me, ...</td>\n",
       "      <td>3</td>\n",
       "      <td>3</td>\n",
       "      <td>Rio de Janeiro</td>\n",
       "      <td>6</td>\n",
       "      <td>10/27/2017</td>\n",
       "      <td>0:17:49</td>\n",
       "      <td>0.0</td>\n",
       "      <td>1.0</td>\n",
       "    </tr>\n",
       "    <tr>\n",
       "      <th>1</th>\n",
       "      <td>line_fdl</td>\n",
       "      <td>[joana, fez, eu, me, arrumar, atoa, affff, cr]</td>\n",
       "      <td>3</td>\n",
       "      <td>5</td>\n",
       "      <td>Rio de Janeiro</td>\n",
       "      <td>4</td>\n",
       "      <td>10/25/2017</td>\n",
       "      <td>0:45:39</td>\n",
       "      <td>0.0</td>\n",
       "      <td>1.0</td>\n",
       "    </tr>\n",
       "    <tr>\n",
       "      <th>2</th>\n",
       "      <td>line_fdl</td>\n",
       "      <td>[tô, tão, sem, paciência, semor]</td>\n",
       "      <td>3</td>\n",
       "      <td>5</td>\n",
       "      <td>Rio de Janeiro</td>\n",
       "      <td>6</td>\n",
       "      <td>10/20/2017</td>\n",
       "      <td>23:25:23</td>\n",
       "      <td>1.0</td>\n",
       "      <td>1.0</td>\n",
       "    </tr>\n",
       "    <tr>\n",
       "      <th>3</th>\n",
       "      <td>line_fdl</td>\n",
       "      <td>[até, gosto, de, calor, mas, tá, de, mais, mds...</td>\n",
       "      <td>3</td>\n",
       "      <td>4</td>\n",
       "      <td>Rio de Janeiro</td>\n",
       "      <td>5</td>\n",
       "      <td>10/19/2017</td>\n",
       "      <td>22:36:52</td>\n",
       "      <td>0.0</td>\n",
       "      <td>0.0</td>\n",
       "    </tr>\n",
       "    <tr>\n",
       "      <th>4</th>\n",
       "      <td>line_fdl</td>\n",
       "      <td>[tô, com, uma, dorzinha, d, cabeça, q, ta, me,...</td>\n",
       "      <td>3</td>\n",
       "      <td>4</td>\n",
       "      <td>Rio de Janeiro</td>\n",
       "      <td>4</td>\n",
       "      <td>10/18/2017</td>\n",
       "      <td>22:33:22</td>\n",
       "      <td>0.0</td>\n",
       "      <td>0.0</td>\n",
       "    </tr>\n",
       "  </tbody>\n",
       "</table>\n",
       "</div>"
      ],
      "text/plain": [
       "         id                                                txt  val  int  \\\n",
       "0  line_fdl  [tô, tão, pensativa, ultimamente, nn, tô, me, ...    3    3   \n",
       "1  line_fdl     [joana, fez, eu, me, arrumar, atoa, affff, cr]    3    5   \n",
       "2  line_fdl                   [tô, tão, sem, paciência, semor]    3    5   \n",
       "3  line_fdl  [até, gosto, de, calor, mas, tá, de, mais, mds...    3    4   \n",
       "4  line_fdl  [tô, com, uma, dorzinha, d, cabeça, q, ta, me,...    3    4   \n",
       "\n",
       "              cit  dia        date      time  isWeekend  isMad  \n",
       "0  Rio de Janeiro    6  10/27/2017   0:17:49        0.0    1.0  \n",
       "1  Rio de Janeiro    4  10/25/2017   0:45:39        0.0    1.0  \n",
       "2  Rio de Janeiro    6  10/20/2017  23:25:23        1.0    1.0  \n",
       "3  Rio de Janeiro    5  10/19/2017  22:36:52        0.0    0.0  \n",
       "4  Rio de Janeiro    4  10/18/2017  22:33:22        0.0    0.0  "
      ]
     },
     "execution_count": 53,
     "metadata": {},
     "output_type": "execute_result"
    }
   ],
   "source": [
    "sentencesWithTokens = [nltk.word_tokenize(sentence.lower()) for sentence in balancedDataset[\"txt\"]]\n",
    "balancedDataset[\"txt\"] = sentencesWithTokens\n",
    "balancedDataset.head()"
   ]
  },
  {
   "cell_type": "markdown",
   "metadata": {},
   "source": [
    "## Removendo StopWords\n",
    "E Removendo espaços"
   ]
  },
  {
   "cell_type": "code",
   "execution_count": 54,
   "metadata": {
    "collapsed": false
   },
   "outputs": [
    {
     "data": {
      "text/html": [
       "<div>\n",
       "<table border=\"1\" class=\"dataframe\">\n",
       "  <thead>\n",
       "    <tr style=\"text-align: right;\">\n",
       "      <th></th>\n",
       "      <th>id</th>\n",
       "      <th>txt</th>\n",
       "      <th>val</th>\n",
       "      <th>int</th>\n",
       "      <th>cit</th>\n",
       "      <th>dia</th>\n",
       "      <th>date</th>\n",
       "      <th>time</th>\n",
       "      <th>isWeekend</th>\n",
       "      <th>isMad</th>\n",
       "    </tr>\n",
       "  </thead>\n",
       "  <tbody>\n",
       "    <tr>\n",
       "      <th>0</th>\n",
       "      <td>line_fdl</td>\n",
       "      <td>tô tão pensativa ultimamente nn tô sentindo bem</td>\n",
       "      <td>3</td>\n",
       "      <td>3</td>\n",
       "      <td>Rio de Janeiro</td>\n",
       "      <td>6</td>\n",
       "      <td>10/27/2017</td>\n",
       "      <td>0:17:49</td>\n",
       "      <td>0.0</td>\n",
       "      <td>1.0</td>\n",
       "    </tr>\n",
       "    <tr>\n",
       "      <th>1</th>\n",
       "      <td>line_fdl</td>\n",
       "      <td>joana fez arrumar atoa affff cr</td>\n",
       "      <td>3</td>\n",
       "      <td>5</td>\n",
       "      <td>Rio de Janeiro</td>\n",
       "      <td>4</td>\n",
       "      <td>10/25/2017</td>\n",
       "      <td>0:45:39</td>\n",
       "      <td>0.0</td>\n",
       "      <td>1.0</td>\n",
       "    </tr>\n",
       "    <tr>\n",
       "      <th>2</th>\n",
       "      <td>line_fdl</td>\n",
       "      <td>tô tão paciência semor</td>\n",
       "      <td>3</td>\n",
       "      <td>5</td>\n",
       "      <td>Rio de Janeiro</td>\n",
       "      <td>6</td>\n",
       "      <td>10/20/2017</td>\n",
       "      <td>23:25:23</td>\n",
       "      <td>1.0</td>\n",
       "      <td>1.0</td>\n",
       "    </tr>\n",
       "    <tr>\n",
       "      <th>3</th>\n",
       "      <td>line_fdl</td>\n",
       "      <td>gosto calor tá mds scrr</td>\n",
       "      <td>3</td>\n",
       "      <td>4</td>\n",
       "      <td>Rio de Janeiro</td>\n",
       "      <td>5</td>\n",
       "      <td>10/19/2017</td>\n",
       "      <td>22:36:52</td>\n",
       "      <td>0.0</td>\n",
       "      <td>0.0</td>\n",
       "    </tr>\n",
       "    <tr>\n",
       "      <th>4</th>\n",
       "      <td>line_fdl</td>\n",
       "      <td>tô dorzinha d cabeça q ta dx enjoada queria ca...</td>\n",
       "      <td>3</td>\n",
       "      <td>4</td>\n",
       "      <td>Rio de Janeiro</td>\n",
       "      <td>4</td>\n",
       "      <td>10/18/2017</td>\n",
       "      <td>22:33:22</td>\n",
       "      <td>0.0</td>\n",
       "      <td>0.0</td>\n",
       "    </tr>\n",
       "  </tbody>\n",
       "</table>\n",
       "</div>"
      ],
      "text/plain": [
       "         id                                                txt  val  int  \\\n",
       "0  line_fdl    tô tão pensativa ultimamente nn tô sentindo bem    3    3   \n",
       "1  line_fdl                    joana fez arrumar atoa affff cr    3    5   \n",
       "2  line_fdl                             tô tão paciência semor    3    5   \n",
       "3  line_fdl                            gosto calor tá mds scrr    3    4   \n",
       "4  line_fdl  tô dorzinha d cabeça q ta dx enjoada queria ca...    3    4   \n",
       "\n",
       "              cit  dia        date      time  isWeekend  isMad  \n",
       "0  Rio de Janeiro    6  10/27/2017   0:17:49        0.0    1.0  \n",
       "1  Rio de Janeiro    4  10/25/2017   0:45:39        0.0    1.0  \n",
       "2  Rio de Janeiro    6  10/20/2017  23:25:23        1.0    1.0  \n",
       "3  Rio de Janeiro    5  10/19/2017  22:36:52        0.0    0.0  \n",
       "4  Rio de Janeiro    4  10/18/2017  22:33:22        0.0    0.0  "
      ]
     },
     "execution_count": 54,
     "metadata": {},
     "output_type": "execute_result"
    }
   ],
   "source": [
    "stops = set(stopwords.words(\"portuguese\"))\n",
    "#words = ' '.join([w for w in words if not w in stops])\n",
    "\n",
    "sentencesWithoutStopWords = []\n",
    "for i,row in balancedDataset.iterrows():\n",
    "    sentence =  ' '.join([w for w in row[\"txt\"] if not w in stops])\n",
    "#    for word in row[\"txt\"]:\n",
    "#        if not word in stop_words:\n",
    "#            sentence = sentence + \" \"+ str(word)\n",
    "    sentencesWithoutStopWords.append(sentence.strip())\n",
    "balancedDataset[\"txt\"]=sentencesWithoutStopWords\n",
    "balancedDataset.head()"
   ]
  },
  {
   "cell_type": "markdown",
   "metadata": {},
   "source": [
    "## Bag of Words"
   ]
  },
  {
   "cell_type": "code",
   "execution_count": 55,
   "metadata": {
    "collapsed": false
   },
   "outputs": [],
   "source": [
    "from sklearn.feature_extraction.text import CountVectorizer\n",
    "count_vect = CountVectorizer(token_pattern=r\"(?u)\\b[a-zA-Z]\\w+\\b\",lowercase=True, ngram_range=(1, 2))\n",
    "\n",
    "\n",
    "datasetTrain = count_vect.fit_transform(balancedDataset[\"txt\"])\n",
    "\n",
    "#from pprint import pprint\n",
    "#pprint(count_vect.vocabulary_)"
   ]
  },
  {
   "cell_type": "code",
   "execution_count": null,
   "metadata": {
    "collapsed": false
   },
   "outputs": [],
   "source": [
    "from sklearn.feature_extraction.text import TfidfTransformer\n",
    "\n",
    "\n",
    "#from pprint import pprint\n",
    "#pprint(count_vect.vocabulary_)\n",
    "\n",
    "#tfidf_transformer = TfidfTransformer(norm=\"l2\",use_idf=True)\n",
    "#X_tfidf = tfidf_transformer.fit_transform(X_train_counts)\n",
    "X_train_counts"
   ]
  },
  {
   "cell_type": "markdown",
   "metadata": {},
   "source": [
    "## Separando o dataset\n",
    "70% e 30%"
   ]
  },
  {
   "cell_type": "code",
   "execution_count": 56,
   "metadata": {
    "collapsed": false
   },
   "outputs": [],
   "source": [
    "train = datasetTrain[:int(datasetTrain.shape[0] * 0.7)]\n",
    "trainTarget = balancedDataset['val'][:int(len(balancedDataset['val']) * 0.7)]\n",
    "\n",
    "test = datasetTrain[:-int(datasetTrain.shape[0] * 0.3)]\n",
    "testTarget = balancedDataset['val'][:-int(len(balancedDataset['val']) * 0.3)]\n"
   ]
  },
  {
   "cell_type": "code",
   "execution_count": null,
   "metadata": {
    "collapsed": false
   },
   "outputs": [],
   "source": []
  },
  {
   "cell_type": "markdown",
   "metadata": {},
   "source": [
    "# Treinamento do classificador"
   ]
  },
  {
   "cell_type": "code",
   "execution_count": 57,
   "metadata": {
    "collapsed": true
   },
   "outputs": [],
   "source": [
    "import sklearn\n",
    "from sklearn import svm\n",
    "import pandas as pd\n",
    "import matplotlib.pyplot as plt\n",
    "from matplotlib import style\n",
    "import matplotlib.lines as mlines\n",
    "import numpy as np"
   ]
  },
  {
   "cell_type": "markdown",
   "metadata": {},
   "source": [
    "## Separação do dataset\n",
    "Treino em treino e teste, respectivamente, 65% (856) e 35% (462)"
   ]
  },
  {
   "cell_type": "code",
   "execution_count": null,
   "metadata": {
    "collapsed": false
   },
   "outputs": [],
   "source": [
    "#Separação dos targets\n",
    "train = []\n",
    "trainTarget = []\n",
    "\n",
    "totalTrain = datasetInFrame.iloc[0:856]\n",
    "trainTarget = totalTrain[\"val\"].values\n",
    "del totalTrain[\"int\"]\n",
    "del totalTrain[\"val\"]\n",
    "train = totalTrain.values\n",
    "print(\"TREINO: \\nTamanho Vetor de Features: \", len(train),\"\\nTamanho Vetor de Label: \", len(trainTarget))"
   ]
  },
  {
   "cell_type": "code",
   "execution_count": null,
   "metadata": {
    "collapsed": false
   },
   "outputs": [],
   "source": [
    "#Separação dos targets\n",
    "test = []\n",
    "testTarget = []\n",
    "\n",
    "totalTest = datasetInFrame.iloc[857:1318]\n",
    "testTarget = totalTest[\"val\"].values\n",
    "del totalTest[\"int\"]\n",
    "del totalTest[\"val\"]\n",
    "test = totalTest.values\n",
    "print(\"TESTE:\\nTamanho Vetor de Features: \", len(test),\"\\nTamanho Vetor de Label: \", len(testTarget))"
   ]
  },
  {
   "cell_type": "code",
   "execution_count": 58,
   "metadata": {
    "collapsed": false
   },
   "outputs": [],
   "source": [
    "from sklearn.svm import SVC\n",
    "\n",
    "#svm = SVC(kernel=\"linear\")\n",
    "svm = SVC(kernel='rbf',gamma=0.001, C=100.)"
   ]
  },
  {
   "cell_type": "code",
   "execution_count": 59,
   "metadata": {
    "collapsed": false
   },
   "outputs": [
    {
     "name": "stdout",
     "output_type": "stream",
     "text": [
      "Original number of features : 3697\n"
     ]
    },
    {
     "data": {
      "text/plain": [
       "0.95739348370927313"
      ]
     },
     "execution_count": 59,
     "metadata": {},
     "output_type": "execute_result"
    }
   ],
   "source": [
    "print(\"Original number of features : %d\" % train.shape[1])\n",
    "svm.fit(train, trainTarget)\n",
    "svm.score(test, testTarget)"
   ]
  },
  {
   "cell_type": "code",
   "execution_count": 60,
   "metadata": {
    "collapsed": false
   },
   "outputs": [],
   "source": [
    "predict = svm.predict(test)"
   ]
  },
  {
   "cell_type": "code",
   "execution_count": null,
   "metadata": {
    "collapsed": false
   },
   "outputs": [],
   "source": [
    "from sklearn.feature_selection import RFECV\n",
    "rfecv = RFECV(estimator=svm, step=1, cv=5, scoring='accuracy')\n",
    "X_rfecv=rfecv.transform(train)"
   ]
  },
  {
   "cell_type": "code",
   "execution_count": 66,
   "metadata": {
    "collapsed": false
   },
   "outputs": [
    {
     "data": {
      "text/plain": [
       "['alguém boto fogo marechal ta cherando maconha metrô inteiro aaaaa',\n",
       " 'prestígio 1 real',\n",
       " 'chega casa come arroz linguisa']"
      ]
     },
     "execution_count": 66,
     "metadata": {},
     "output_type": "execute_result"
    }
   ],
   "source": [
    "valida = [\"Alguém boto fogo na Marechal ta cherando maconha o metrô inteiro aaaaa\",\n",
    "          \"Prestígio 1 Real\",\n",
    "          \"Chega em casa e come arroz com linguisa\"]\n",
    "\n",
    "sentences = [str(sentence).lower().replace(\"'\",\"\").replace(\".\",\"\").replace(\",\",\"\").replace('\"',\"\").replace(\"?\",\"\") for sentence in valida]\n",
    "valida = sentences\n",
    "\n",
    "sentencesWithTokens = [nltk.word_tokenize(sentence.lower()) for sentence in valida]\n",
    "valida = sentencesWithTokens\n",
    "\n",
    "sentencesWithout = []\n",
    "for i in valida:\n",
    "    sentence =  ' '.join([w for w in i if not w in stops])\n",
    "#    for word in row[\"txt\"]:\n",
    "#        if not word in stop_words:\n",
    "#            sentence = sentence + \" \"+ str(word)\n",
    "    sentencesWithout.append(sentence.strip())\n",
    "valida=sentencesWithout\n",
    "sentencesWithout\n",
    "\n"
   ]
  },
  {
   "cell_type": "code",
   "execution_count": null,
   "metadata": {
    "collapsed": false
   },
   "outputs": [],
   "source": [
    "valida = count_vect.fit_transform(valida)"
   ]
  },
  {
   "cell_type": "code",
   "execution_count": 71,
   "metadata": {
    "collapsed": false
   },
   "outputs": [
    {
     "data": {
      "text/plain": [
       "(3, 31)"
      ]
     },
     "execution_count": 71,
     "metadata": {},
     "output_type": "execute_result"
    }
   ],
   "source": [
    "valida.shape"
   ]
  },
  {
   "cell_type": "code",
   "execution_count": null,
   "metadata": {
    "collapsed": false
   },
   "outputs": [],
   "source": [
    "# train classifier\n",
    "clf = MultinomialNB(alpha=0.5).fit(train, trainTarget)\n",
    "\n",
    "# test clf on test data\n",
    "X_test_rfecv = rfecv.transform(X_test_tfidf)\n",
    "\n",
    "predicted = clf.predict(X_test_rfecv) \n",
    "\n",
    "print(\"\\nAccuracy Training: \" + str(np.mean(predicted == labels_test)))"
   ]
  },
  {
   "cell_type": "code",
   "execution_count": 62,
   "metadata": {
    "collapsed": false
   },
   "outputs": [
    {
     "ename": "AttributeError",
     "evalue": "'RFECV' object has no attribute 'n_features_'",
     "output_type": "error",
     "traceback": [
      "\u001b[0;31m---------------------------------------------------------------------------\u001b[0m",
      "\u001b[0;31mAttributeError\u001b[0m                            Traceback (most recent call last)",
      "\u001b[0;32m<ipython-input-62-b4b1e7a046d9>\u001b[0m in \u001b[0;36m<module>\u001b[0;34m()\u001b[0m\n\u001b[0;32m----> 1\u001b[0;31m \u001b[0mprint\u001b[0m\u001b[1;33m(\u001b[0m\u001b[1;34m\"Optimal number of features : %d\"\u001b[0m \u001b[1;33m%\u001b[0m \u001b[0mrfecv\u001b[0m\u001b[1;33m.\u001b[0m\u001b[0mn_features_\u001b[0m\u001b[1;33m)\u001b[0m\u001b[1;33m\u001b[0m\u001b[0m\n\u001b[0m\u001b[1;32m      2\u001b[0m \u001b[1;33m\u001b[0m\u001b[0m\n\u001b[1;32m      3\u001b[0m \u001b[1;31m# train classifier\u001b[0m\u001b[1;33m\u001b[0m\u001b[1;33m\u001b[0m\u001b[0m\n\u001b[1;32m      4\u001b[0m \u001b[0mclf\u001b[0m \u001b[1;33m=\u001b[0m \u001b[0msvm\u001b[0m\u001b[1;33m.\u001b[0m\u001b[0mfit\u001b[0m\u001b[1;33m(\u001b[0m\u001b[0mX_rfecv\u001b[0m\u001b[1;33m,\u001b[0m \u001b[0mlabels_train\u001b[0m\u001b[1;33m)\u001b[0m\u001b[1;33m\u001b[0m\u001b[0m\n\u001b[1;32m      5\u001b[0m \u001b[1;33m\u001b[0m\u001b[0m\n",
      "\u001b[0;31mAttributeError\u001b[0m: 'RFECV' object has no attribute 'n_features_'"
     ]
    }
   ],
   "source": [
    "print(\"Optimal number of features : %d\" % rfecv.n_features_)\n",
    "\n",
    "# train classifier\n",
    "clf = svm.fit(X_rfecv, labels_train)\n",
    "\n",
    "# test clf on test data\n",
    "X_test_rfecv = rfecv.transform(X_test_tfidf)\n",
    "\n",
    "predicted = clf.predict(X_test_rfecv) \n",
    "\n",
    "print(\"\\nAccuracy Training: \" + str(np.mean(predicted == labels_test)))"
   ]
  },
  {
   "cell_type": "code",
   "execution_count": null,
   "metadata": {
    "collapsed": true
   },
   "outputs": [],
   "source": []
  },
  {
   "cell_type": "code",
   "execution_count": null,
   "metadata": {
    "collapsed": true
   },
   "outputs": [],
   "source": [
    "## Todos os registros\n",
    "classifier.fit(sentencesWithoutStopWords, datasetInFrame[\"val\"].values)"
   ]
  },
  {
   "cell_type": "code",
   "execution_count": null,
   "metadata": {
    "collapsed": true
   },
   "outputs": [],
   "source": [
    "def predict(test_data):\n",
    "\ttest_counts = count_vector.transform(test_data)\n",
    "\ttest_tfidf = tfidf.transform(test_counts)\n",
    "return classifier.predict(test_tfidf)"
   ]
  }
 ],
 "metadata": {
  "kernelspec": {
   "display_name": "Python 3",
   "language": "python",
   "name": "python3"
  },
  "language_info": {
   "codemirror_mode": {
    "name": "ipython",
    "version": 3
   },
   "file_extension": ".py",
   "mimetype": "text/x-python",
   "name": "python",
   "nbconvert_exporter": "python",
   "pygments_lexer": "ipython3",
   "version": "3.6.0"
  }
 },
 "nbformat": 4,
 "nbformat_minor": 2
}
