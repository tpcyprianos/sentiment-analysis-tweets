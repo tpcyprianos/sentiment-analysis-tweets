{
 "cells": [
  {
   "cell_type": "markdown",
   "metadata": {},
   "source": [
    "# Pré-processamento"
   ]
  },
  {
   "cell_type": "code",
   "execution_count": 151,
   "metadata": {
    "collapsed": true
   },
   "outputs": [],
   "source": [
    "# encoding: utf-8\n",
    "# encoding: iso-8859-1\n",
    "# encoding: win-1252\n",
    "\n",
    "import pandas as pd\n",
    "import csv\n",
    "from datetime import datetime\n",
    "from dateutil import parser\n",
    "import nltk\n",
    "from nltk.corpus import stopwords\n",
    "from nltk.stem import PorterStemmer\n",
    "from sklearn.feature_extraction.text import CountVectorizer\n",
    "import numpy as np\n",
    "\n",
    "import matplotlib.pyplot as plt # Matplot is a common Python lib for plotting\n",
    "%matplotlib inline\n",
    "import seaborn as sns # Seaborn is a great tool for data analysis graphs\n",
    "from sklearn.svm import SVC\n"
   ]
  },
  {
   "cell_type": "code",
   "execution_count": 2,
   "metadata": {
    "collapsed": false
   },
   "outputs": [],
   "source": [
    "datasetInFrame = pd.read_csv(\"output-pleasure-arousal-labeled.csv\", sep=\"|\", encoding=\"ISO-8859-1\",quoting=csv.QUOTE_ALL)"
   ]
  },
  {
   "cell_type": "code",
   "execution_count": 3,
   "metadata": {
    "collapsed": false
   },
   "outputs": [
    {
     "data": {
      "text/html": [
       "<div>\n",
       "<table border=\"1\" class=\"dataframe\">\n",
       "  <thead>\n",
       "    <tr style=\"text-align: right;\">\n",
       "      <th></th>\n",
       "      <th>id</th>\n",
       "      <th>txt</th>\n",
       "      <th>val</th>\n",
       "      <th>int</th>\n",
       "      <th>cit</th>\n",
       "      <th>data</th>\n",
       "      <th>dia</th>\n",
       "    </tr>\n",
       "  </thead>\n",
       "  <tbody>\n",
       "    <tr>\n",
       "      <th>0</th>\n",
       "      <td>line_fdl</td>\n",
       "      <td>Tô tão pensativa ultimamente, nn tô me sentind...</td>\n",
       "      <td>3</td>\n",
       "      <td>3</td>\n",
       "      <td>Rio de Janeiro, Brasil</td>\n",
       "      <td>10/27/2017 0:17:49</td>\n",
       "      <td>6</td>\n",
       "    </tr>\n",
       "    <tr>\n",
       "      <th>1</th>\n",
       "      <td>line_fdl</td>\n",
       "      <td>Guilherme só aparece aqui em casa p fazer barb...</td>\n",
       "      <td>5</td>\n",
       "      <td>4</td>\n",
       "      <td>Rio de Janeiro, Brasil</td>\n",
       "      <td>10/26/2017 20:47:35</td>\n",
       "      <td>5</td>\n",
       "    </tr>\n",
       "    <tr>\n",
       "      <th>2</th>\n",
       "      <td>line_fdl</td>\n",
       "      <td>Amo cheiro de café pela manhã.. ???</td>\n",
       "      <td>5</td>\n",
       "      <td>4</td>\n",
       "      <td>Rio de Janeiro, Brasil</td>\n",
       "      <td>10/26/2017 9:45:33</td>\n",
       "      <td>5</td>\n",
       "    </tr>\n",
       "    <tr>\n",
       "      <th>3</th>\n",
       "      <td>line_fdl</td>\n",
       "      <td>Tô meio aérea</td>\n",
       "      <td>4</td>\n",
       "      <td>2</td>\n",
       "      <td>Rio de Janeiro, Brasil</td>\n",
       "      <td>10/26/2017 1:24:55</td>\n",
       "      <td>5</td>\n",
       "    </tr>\n",
       "    <tr>\n",
       "      <th>4</th>\n",
       "      <td>line_fdl</td>\n",
       "      <td>Tô mega cansada nn sei que cançaso é esse, só ...</td>\n",
       "      <td>2</td>\n",
       "      <td>4</td>\n",
       "      <td>Rio de Janeiro, Brasil</td>\n",
       "      <td>10/26/2017 0:56:21</td>\n",
       "      <td>5</td>\n",
       "    </tr>\n",
       "  </tbody>\n",
       "</table>\n",
       "</div>"
      ],
      "text/plain": [
       "         id                                                txt  val  int  \\\n",
       "0  line_fdl  Tô tão pensativa ultimamente, nn tô me sentind...    3    3   \n",
       "1  line_fdl  Guilherme só aparece aqui em casa p fazer barb...    5    4   \n",
       "2  line_fdl                Amo cheiro de café pela manhã.. ???    5    4   \n",
       "3  line_fdl                                      Tô meio aérea    4    2   \n",
       "4  line_fdl  Tô mega cansada nn sei que cançaso é esse, só ...    2    4   \n",
       "\n",
       "                      cit                 data  dia  \n",
       "0  Rio de Janeiro, Brasil   10/27/2017 0:17:49    6  \n",
       "1  Rio de Janeiro, Brasil  10/26/2017 20:47:35    5  \n",
       "2  Rio de Janeiro, Brasil   10/26/2017 9:45:33    5  \n",
       "3  Rio de Janeiro, Brasil   10/26/2017 1:24:55    5  \n",
       "4  Rio de Janeiro, Brasil   10/26/2017 0:56:21    5  "
      ]
     },
     "execution_count": 3,
     "metadata": {},
     "output_type": "execute_result"
    }
   ],
   "source": [
    "#datasetInFrame.describe()\n",
    "datasetInFrame.head()"
   ]
  },
  {
   "cell_type": "markdown",
   "metadata": {},
   "source": [
    "## Verificando a distribuição das Classes:\n",
    "Intensidade: 1 a 7\n",
    "Valência: 1 a 7"
   ]
  },
  {
   "cell_type": "code",
   "execution_count": 4,
   "metadata": {
    "collapsed": false
   },
   "outputs": [
    {
     "data": {
      "text/plain": [
       "{1: 129, 2: 218, 3: 243, 4: 273, 5: 229, 6: 156, 7: 70}"
      ]
     },
     "execution_count": 4,
     "metadata": {},
     "output_type": "execute_result"
    }
   ],
   "source": [
    "totalIntensityClasses = {}\n",
    "\n",
    "for i in range(1,8):\n",
    "    totalIntensityClasses[i] = datasetInFrame[datasetInFrame.int == i][\"txt\"].count()\n",
    "totalIntensityClasses"
   ]
  },
  {
   "cell_type": "code",
   "execution_count": 5,
   "metadata": {
    "collapsed": false
   },
   "outputs": [
    {
     "data": {
      "text/plain": [
       "<matplotlib.axes._subplots.AxesSubplot at 0x75b2e1ab38>"
      ]
     },
     "execution_count": 5,
     "metadata": {},
     "output_type": "execute_result"
    },
    {
     "data": {
      "image/png": "[encoded data removed]",
      "text/plain": [
       "<matplotlib.figure.Figure at 0x75b2e38630>"
      ]
     },
     "metadata": {},
     "output_type": "display_data"
    }
   ],
   "source": [
    "sns.countplot(x='int', data=datasetInFrame)"
   ]
  },
  {
   "cell_type": "code",
   "execution_count": 6,
   "metadata": {
    "collapsed": false
   },
   "outputs": [
    {
     "data": {
      "text/plain": [
       "{1: 49, 2: 189, 3: 316, 4: 225, 5: 413, 6: 106, 7: 20}"
      ]
     },
     "execution_count": 6,
     "metadata": {},
     "output_type": "execute_result"
    }
   ],
   "source": [
    "totalValencyClasses = {}\n",
    "\n",
    "for i in range(1,8):\n",
    "    totalValencyClasses[i] = datasetInFrame[datasetInFrame.val == i][\"txt\"].count()\n",
    "totalValencyClasses"
   ]
  },
  {
   "cell_type": "code",
   "execution_count": 7,
   "metadata": {
    "collapsed": false
   },
   "outputs": [
    {
     "data": {
      "text/plain": [
       "<matplotlib.axes._subplots.AxesSubplot at 0x75b3110630>"
      ]
     },
     "execution_count": 7,
     "metadata": {},
     "output_type": "execute_result"
    },
    {
     "data": {
      "image/png": "[encoded data removed]",
      "text/plain": [
       "<matplotlib.figure.Figure at 0x75b3067518>"
      ]
     },
     "metadata": {},
     "output_type": "display_data"
    }
   ],
   "source": [
    "sns.countplot(x='val', data=datasetInFrame)"
   ]
  },
  {
   "cell_type": "markdown",
   "metadata": {},
   "source": [
    "## Separando data e hora"
   ]
  },
  {
   "cell_type": "code",
   "execution_count": 8,
   "metadata": {
    "collapsed": false
   },
   "outputs": [
    {
     "data": {
      "text/plain": [
       "datetime.datetime(2017, 10, 27, 0, 17, 49)"
      ]
     },
     "execution_count": 8,
     "metadata": {},
     "output_type": "execute_result"
    }
   ],
   "source": [
    "dateTime = datasetInFrame[\"data\"].apply(lambda  x: x.split(' '))\n",
    "date = dateTime.apply(lambda x: x[0])\n",
    "time = dateTime.apply(lambda x: x[1])\n",
    "datasetInFrame[\"date\"] = date\n",
    "datasetInFrame[\"time\"] = time\n",
    "del datasetInFrame[\"data\"]\n",
    "####\n",
    "#format = '%m/%d/%Y %H:%M:%S'\n",
    "#datetime.strptime(\"10/27/2017 0:17:49\", format)"
   ]
  },
  {
   "cell_type": "markdown",
   "metadata": {},
   "source": [
    "## Substituindo Valores Para Cidade\n",
    "1. Removendo o País;\n",
    "2. Substituindo: \n",
    "    * Rio de Janeiro = 1 \n",
    "    * São Paulo = 2"
   ]
  },
  {
   "cell_type": "code",
   "execution_count": 9,
   "metadata": {
    "collapsed": false
   },
   "outputs": [],
   "source": [
    "city = datasetInFrame[\"cit\"].apply(lambda x: x.split(','))\n",
    "datasetInFrame[\"cit\"] = city.apply(lambda x: x[0])"
   ]
  },
  {
   "cell_type": "code",
   "execution_count": 10,
   "metadata": {
    "collapsed": true
   },
   "outputs": [],
   "source": [
    "datasetInFrame[\"cit\"] = datasetInFrame[\"cit\"].apply(lambda x: 1 if x == \"Rio de Janeiro\" else 2)\n",
    "#datasetInFrame"
   ]
  },
  {
   "cell_type": "markdown",
   "metadata": {},
   "source": [
    "## Criando *features*\n",
    "1. isWeekend? [dia 6 após às 19:00, dia 7  e  1 até 19:00 sim 0 não\n",
    "2. isMad? 1 sim 0 não"
   ]
  },
  {
   "cell_type": "code",
   "execution_count": 40,
   "metadata": {
    "collapsed": false,
    "scrolled": true
   },
   "outputs": [
    {
     "data": {
      "text/html": [
       "<div>\n",
       "<table border=\"1\" class=\"dataframe\">\n",
       "  <thead>\n",
       "    <tr style=\"text-align: right;\">\n",
       "      <th></th>\n",
       "      <th>id</th>\n",
       "      <th>txt</th>\n",
       "      <th>val</th>\n",
       "      <th>int</th>\n",
       "      <th>cit</th>\n",
       "      <th>dia</th>\n",
       "      <th>date</th>\n",
       "      <th>time</th>\n",
       "      <th>isWeekend</th>\n",
       "    </tr>\n",
       "  </thead>\n",
       "  <tbody>\n",
       "    <tr>\n",
       "      <th>0</th>\n",
       "      <td>line_fdl</td>\n",
       "      <td>Tô tão pensativa ultimamente, nn tô me sentind...</td>\n",
       "      <td>3</td>\n",
       "      <td>3</td>\n",
       "      <td>1</td>\n",
       "      <td>6</td>\n",
       "      <td>10/27/2017</td>\n",
       "      <td>0:17:49</td>\n",
       "      <td>0.0</td>\n",
       "    </tr>\n",
       "    <tr>\n",
       "      <th>1</th>\n",
       "      <td>line_fdl</td>\n",
       "      <td>Guilherme só aparece aqui em casa p fazer barb...</td>\n",
       "      <td>5</td>\n",
       "      <td>4</td>\n",
       "      <td>1</td>\n",
       "      <td>5</td>\n",
       "      <td>10/26/2017</td>\n",
       "      <td>20:47:35</td>\n",
       "      <td>0.0</td>\n",
       "    </tr>\n",
       "    <tr>\n",
       "      <th>2</th>\n",
       "      <td>line_fdl</td>\n",
       "      <td>Amo cheiro de café pela manhã.. ???</td>\n",
       "      <td>5</td>\n",
       "      <td>4</td>\n",
       "      <td>1</td>\n",
       "      <td>5</td>\n",
       "      <td>10/26/2017</td>\n",
       "      <td>9:45:33</td>\n",
       "      <td>0.0</td>\n",
       "    </tr>\n",
       "    <tr>\n",
       "      <th>3</th>\n",
       "      <td>line_fdl</td>\n",
       "      <td>Tô meio aérea</td>\n",
       "      <td>4</td>\n",
       "      <td>2</td>\n",
       "      <td>1</td>\n",
       "      <td>5</td>\n",
       "      <td>10/26/2017</td>\n",
       "      <td>1:24:55</td>\n",
       "      <td>0.0</td>\n",
       "    </tr>\n",
       "    <tr>\n",
       "      <th>4</th>\n",
       "      <td>line_fdl</td>\n",
       "      <td>Tô mega cansada nn sei que cançaso é esse, só ...</td>\n",
       "      <td>2</td>\n",
       "      <td>4</td>\n",
       "      <td>1</td>\n",
       "      <td>5</td>\n",
       "      <td>10/26/2017</td>\n",
       "      <td>0:56:21</td>\n",
       "      <td>0.0</td>\n",
       "    </tr>\n",
       "  </tbody>\n",
       "</table>\n",
       "</div>"
      ],
      "text/plain": [
       "         id                                                txt  val  int  cit  \\\n",
       "0  line_fdl  Tô tão pensativa ultimamente, nn tô me sentind...    3    3    1   \n",
       "1  line_fdl  Guilherme só aparece aqui em casa p fazer barb...    5    4    1   \n",
       "2  line_fdl                Amo cheiro de café pela manhã.. ???    5    4    1   \n",
       "3  line_fdl                                      Tô meio aérea    4    2    1   \n",
       "4  line_fdl  Tô mega cansada nn sei que cançaso é esse, só ...    2    4    1   \n",
       "\n",
       "   dia        date      time  isWeekend  \n",
       "0    6  10/27/2017   0:17:49        0.0  \n",
       "1    5  10/26/2017  20:47:35        0.0  \n",
       "2    5  10/26/2017   9:45:33        0.0  \n",
       "3    5  10/26/2017   1:24:55        0.0  \n",
       "4    5  10/26/2017   0:56:21        0.0  "
      ]
     },
     "execution_count": 40,
     "metadata": {},
     "output_type": "execute_result"
    }
   ],
   "source": [
    "def isWeekend(day,hour):\n",
    "    format = '%H:%M:%S'\n",
    "    hour = datetime.strptime(hour, format)\n",
    "    limitWeekend = datetime.strptime(\"19:00:00\", format)\n",
    "    if (day == 6) and (hour >= limitWeekend):\n",
    "        return 1\n",
    "    elif (day == 1) and (hour < limitWeekend):\n",
    "        return 1\n",
    "    elif day == 7:\n",
    "        return 1\n",
    "    else:\n",
    "        return 0\n",
    "\n",
    "datasetInFrame['isWeekend'] = pd.Series(np.zeros(len(datasetInFrame)), index=datasetInFrame.index)\n",
    "\n",
    "for index, row in datasetInFrame.iterrows():\n",
    "    datasetInFrame.loc[index,\"isWeekend\"] = isWeekend(row[\"dia\"],row[\"time\"])\n",
    "datasetInFrame.head()"
   ]
  },
  {
   "cell_type": "code",
   "execution_count": 57,
   "metadata": {
    "collapsed": false
   },
   "outputs": [
    {
     "data": {
      "text/html": [
       "<div>\n",
       "<table border=\"1\" class=\"dataframe\">\n",
       "  <thead>\n",
       "    <tr style=\"text-align: right;\">\n",
       "      <th></th>\n",
       "      <th>id</th>\n",
       "      <th>txt</th>\n",
       "      <th>val</th>\n",
       "      <th>int</th>\n",
       "      <th>cit</th>\n",
       "      <th>dia</th>\n",
       "      <th>date</th>\n",
       "      <th>time</th>\n",
       "      <th>isWeekend</th>\n",
       "      <th>isMad</th>\n",
       "    </tr>\n",
       "  </thead>\n",
       "  <tbody>\n",
       "    <tr>\n",
       "      <th>0</th>\n",
       "      <td>line_fdl</td>\n",
       "      <td>Tô tão pensativa ultimamente, nn tô me sentind...</td>\n",
       "      <td>3</td>\n",
       "      <td>3</td>\n",
       "      <td>1</td>\n",
       "      <td>6</td>\n",
       "      <td>10/27/2017</td>\n",
       "      <td>0:17:49</td>\n",
       "      <td>0.0</td>\n",
       "      <td>1.0</td>\n",
       "    </tr>\n",
       "    <tr>\n",
       "      <th>1</th>\n",
       "      <td>line_fdl</td>\n",
       "      <td>Guilherme só aparece aqui em casa p fazer barb...</td>\n",
       "      <td>5</td>\n",
       "      <td>4</td>\n",
       "      <td>1</td>\n",
       "      <td>5</td>\n",
       "      <td>10/26/2017</td>\n",
       "      <td>20:47:35</td>\n",
       "      <td>0.0</td>\n",
       "      <td>0.0</td>\n",
       "    </tr>\n",
       "    <tr>\n",
       "      <th>2</th>\n",
       "      <td>line_fdl</td>\n",
       "      <td>Amo cheiro de café pela manhã.. ???</td>\n",
       "      <td>5</td>\n",
       "      <td>4</td>\n",
       "      <td>1</td>\n",
       "      <td>5</td>\n",
       "      <td>10/26/2017</td>\n",
       "      <td>9:45:33</td>\n",
       "      <td>0.0</td>\n",
       "      <td>0.0</td>\n",
       "    </tr>\n",
       "    <tr>\n",
       "      <th>3</th>\n",
       "      <td>line_fdl</td>\n",
       "      <td>Tô meio aérea</td>\n",
       "      <td>4</td>\n",
       "      <td>2</td>\n",
       "      <td>1</td>\n",
       "      <td>5</td>\n",
       "      <td>10/26/2017</td>\n",
       "      <td>1:24:55</td>\n",
       "      <td>0.0</td>\n",
       "      <td>1.0</td>\n",
       "    </tr>\n",
       "    <tr>\n",
       "      <th>4</th>\n",
       "      <td>line_fdl</td>\n",
       "      <td>Tô mega cansada nn sei que cançaso é esse, só ...</td>\n",
       "      <td>2</td>\n",
       "      <td>4</td>\n",
       "      <td>1</td>\n",
       "      <td>5</td>\n",
       "      <td>10/26/2017</td>\n",
       "      <td>0:56:21</td>\n",
       "      <td>0.0</td>\n",
       "      <td>1.0</td>\n",
       "    </tr>\n",
       "  </tbody>\n",
       "</table>\n",
       "</div>"
      ],
      "text/plain": [
       "         id                                                txt  val  int  cit  \\\n",
       "0  line_fdl  Tô tão pensativa ultimamente, nn tô me sentind...    3    3    1   \n",
       "1  line_fdl  Guilherme só aparece aqui em casa p fazer barb...    5    4    1   \n",
       "2  line_fdl                Amo cheiro de café pela manhã.. ???    5    4    1   \n",
       "3  line_fdl                                      Tô meio aérea    4    2    1   \n",
       "4  line_fdl  Tô mega cansada nn sei que cançaso é esse, só ...    2    4    1   \n",
       "\n",
       "   dia        date      time  isWeekend  isMad  \n",
       "0    6  10/27/2017   0:17:49        0.0    1.0  \n",
       "1    5  10/26/2017  20:47:35        0.0    0.0  \n",
       "2    5  10/26/2017   9:45:33        0.0    0.0  \n",
       "3    5  10/26/2017   1:24:55        0.0    1.0  \n",
       "4    5  10/26/2017   0:56:21        0.0    1.0  "
      ]
     },
     "execution_count": 57,
     "metadata": {},
     "output_type": "execute_result"
    }
   ],
   "source": [
    "def isMad(hour):\n",
    "    format = '%H:%M:%S'\n",
    "    hour = datetime.strptime(hour, format)\n",
    "    initLimit = datetime.strptime(\"23:00:00\", format)\n",
    "    endLimit = datetime.strptime(\"05:00:00\", format)\n",
    "    \n",
    "    if (hour >= initLimit) or (hour < endLimit):\n",
    "        return 1\n",
    "    else:\n",
    "        return 0\n",
    "\n",
    "    \n",
    "datasetInFrame['isMad'] = pd.Series(np.zeros(len(datasetInFrame)), index=datasetInFrame.index)\n",
    "\n",
    "for index, row in datasetInFrame.iterrows():\n",
    "    datasetInFrame.loc[index,\"isMad\"] = isMad(row[\"time\"])\n",
    "datasetInFrame.head()"
   ]
  },
  {
   "cell_type": "markdown",
   "metadata": {},
   "source": [
    "## Removendo colunas\n",
    "\n",
    "Colunas removidas: date, time, cit e int"
   ]
  },
  {
   "cell_type": "code",
   "execution_count": null,
   "metadata": {
    "collapsed": true
   },
   "outputs": [],
   "source": []
  },
  {
   "cell_type": "markdown",
   "metadata": {},
   "source": [
    "## Balanceando os dados"
   ]
  },
  {
   "cell_type": "code",
   "execution_count": 127,
   "metadata": {
    "collapsed": false
   },
   "outputs": [
    {
     "data": {
      "text/html": [
       "<div>\n",
       "<table border=\"1\" class=\"dataframe\">\n",
       "  <thead>\n",
       "    <tr style=\"text-align: right;\">\n",
       "      <th></th>\n",
       "      <th>id</th>\n",
       "      <th>txt</th>\n",
       "      <th>val</th>\n",
       "      <th>int</th>\n",
       "      <th>cit</th>\n",
       "      <th>dia</th>\n",
       "      <th>date</th>\n",
       "      <th>time</th>\n",
       "      <th>isWeekend</th>\n",
       "      <th>isMad</th>\n",
       "    </tr>\n",
       "  </thead>\n",
       "  <tbody>\n",
       "    <tr>\n",
       "      <th>0</th>\n",
       "      <td>line_fdl</td>\n",
       "      <td>Tô tão pensativa ultimamente, nn tô me sentind...</td>\n",
       "      <td>3</td>\n",
       "      <td>3</td>\n",
       "      <td>2</td>\n",
       "      <td>6</td>\n",
       "      <td>10/27/2017</td>\n",
       "      <td>0:17:49</td>\n",
       "      <td>0.0</td>\n",
       "      <td>1.0</td>\n",
       "    </tr>\n",
       "    <tr>\n",
       "      <th>6</th>\n",
       "      <td>line_fdl</td>\n",
       "      <td>Joana fez eu me arrumar atoa affff cr</td>\n",
       "      <td>3</td>\n",
       "      <td>5</td>\n",
       "      <td>2</td>\n",
       "      <td>4</td>\n",
       "      <td>10/25/2017</td>\n",
       "      <td>0:45:39</td>\n",
       "      <td>0.0</td>\n",
       "      <td>1.0</td>\n",
       "    </tr>\n",
       "    <tr>\n",
       "      <th>23</th>\n",
       "      <td>line_fdl</td>\n",
       "      <td>Tô tão sem paciência sem.or</td>\n",
       "      <td>3</td>\n",
       "      <td>5</td>\n",
       "      <td>2</td>\n",
       "      <td>6</td>\n",
       "      <td>10/20/2017</td>\n",
       "      <td>23:25:23</td>\n",
       "      <td>1.0</td>\n",
       "      <td>1.0</td>\n",
       "    </tr>\n",
       "    <tr>\n",
       "      <th>28</th>\n",
       "      <td>line_fdl</td>\n",
       "      <td>Até gosto de calor mas tá de mais mds scrr</td>\n",
       "      <td>3</td>\n",
       "      <td>4</td>\n",
       "      <td>2</td>\n",
       "      <td>5</td>\n",
       "      <td>10/19/2017</td>\n",
       "      <td>22:36:52</td>\n",
       "      <td>0.0</td>\n",
       "      <td>0.0</td>\n",
       "    </tr>\n",
       "    <tr>\n",
       "      <th>29</th>\n",
       "      <td>line_fdl</td>\n",
       "      <td>Tô com uma dorzinha d cabeça q ta me dx enjoad...</td>\n",
       "      <td>3</td>\n",
       "      <td>4</td>\n",
       "      <td>2</td>\n",
       "      <td>4</td>\n",
       "      <td>10/18/2017</td>\n",
       "      <td>22:33:22</td>\n",
       "      <td>0.0</td>\n",
       "      <td>0.0</td>\n",
       "    </tr>\n",
       "  </tbody>\n",
       "</table>\n",
       "</div>"
      ],
      "text/plain": [
       "          id                                                txt  val  int  \\\n",
       "0   line_fdl  Tô tão pensativa ultimamente, nn tô me sentind...    3    3   \n",
       "6   line_fdl              Joana fez eu me arrumar atoa affff cr    3    5   \n",
       "23  line_fdl                        Tô tão sem paciência sem.or    3    5   \n",
       "28  line_fdl         Até gosto de calor mas tá de mais mds scrr    3    4   \n",
       "29  line_fdl  Tô com uma dorzinha d cabeça q ta me dx enjoad...    3    4   \n",
       "\n",
       "    cit  dia        date      time  isWeekend  isMad  \n",
       "0     2    6  10/27/2017   0:17:49        0.0    1.0  \n",
       "6     2    4  10/25/2017   0:45:39        0.0    1.0  \n",
       "23    2    6  10/20/2017  23:25:23        1.0    1.0  \n",
       "28    2    5  10/19/2017  22:36:52        0.0    0.0  \n",
       "29    2    4  10/18/2017  22:33:22        0.0    0.0  "
      ]
     },
     "execution_count": 127,
     "metadata": {},
     "output_type": "execute_result"
    }
   ],
   "source": [
    "balancedDataset = pd.DataFrame()\n",
    "limitSamples = 100\n",
    "for i in datasetInFrame['val'].unique():\n",
    "    balancedDataset = balancedDataset.append(datasetInFrame[datasetInFrame['val'] == i].iloc[:limitSamples])\n",
    "    \n",
    "balancedDataset.head()"
   ]
  },
  {
   "cell_type": "code",
   "execution_count": 128,
   "metadata": {
    "collapsed": false
   },
   "outputs": [
    {
     "data": {
      "text/plain": [
       "<matplotlib.axes._subplots.AxesSubplot at 0x75b405e4a8>"
      ]
     },
     "execution_count": 128,
     "metadata": {},
     "output_type": "execute_result"
    },
    {
     "data": {
      "image/png": "[encoded data removed]",
      "text/plain": [
       "<matplotlib.figure.Figure at 0x75b3ce0b70>"
      ]
     },
     "metadata": {},
     "output_type": "display_data"
    }
   ],
   "source": [
    "sns.countplot(x='val', data=balancedDataset)"
   ]
  },
  {
   "cell_type": "code",
   "execution_count": 134,
   "metadata": {
    "collapsed": false
   },
   "outputs": [
    {
     "data": {
      "text/plain": [
       "<matplotlib.axes._subplots.AxesSubplot at 0x75b5310588>"
      ]
     },
     "execution_count": 134,
     "metadata": {},
     "output_type": "execute_result"
    },
    {
     "data": {
      "image/png": "[encoded data removed]",
      "text/plain": [
       "<matplotlib.figure.Figure at 0x75b5388dd8>"
      ]
     },
     "metadata": {},
     "output_type": "display_data"
    }
   ],
   "source": [
    "#Seleciona aleatóriamente\n",
    "dataFrame = balancedDataset.sample(len(balancedDataset), replace=True)\n",
    "sns.countplot(x='val', data=dataFrame)"
   ]
  },
  {
   "cell_type": "markdown",
   "metadata": {},
   "source": [
    "## Separando o Dataset"
   ]
  },
  {
   "cell_type": "code",
   "execution_count": 141,
   "metadata": {
    "collapsed": false
   },
   "outputs": [
    {
     "name": "stdout",
     "output_type": "stream",
     "text": [
      "316\n",
      "413\n",
      "106\n",
      "189\n",
      "49\n",
      "225\n",
      "20\n"
     ]
    }
   ],
   "source": [
    "for i in dataFrame['val'].unique():\n",
    "    x= datasetInFrame[datasetInFrame['val'] == i]\n",
    "    print(len(x))"
   ]
  },
  {
   "cell_type": "code",
   "execution_count": null,
   "metadata": {
    "collapsed": true
   },
   "outputs": [],
   "source": [
    "#Separação dos targets\n",
    "train = []\n",
    "trainTarget = []\n",
    "\n",
    "totalTrain = datasetInFrame.iloc[0:856]\n",
    "trainTarget = totalTrain[\"val\"].values\n",
    "del totalTrain[\"int\"]\n",
    "del totalTrain[\"val\"]\n",
    "train = totalTrain.values\n",
    "print(\"TREINO: \\nTamanho Vetor de Features: \", len(train),\"\\nTamanho Vetor de Label: \", len(trainTarget))"
   ]
  },
  {
   "cell_type": "code",
   "execution_count": null,
   "metadata": {
    "collapsed": true
   },
   "outputs": [],
   "source": [
    "#Separação dos targets\n",
    "test = []\n",
    "testTarget = []\n",
    "\n",
    "totalTest = datasetInFrame.iloc[857:1318]\n",
    "testTarget = totalTest[\"val\"].values\n",
    "del totalTest[\"int\"]\n",
    "del totalTest[\"val\"]\n",
    "test = totalTest.values\n",
    "print(\"TESTE:\\nTamanho Vetor de Features: \", len(test),\"\\nTamanho Vetor de Label: \", len(testTarget))"
   ]
  },
  {
   "cell_type": "markdown",
   "metadata": {},
   "source": [
    "## Adicionando *features* de texto\n",
    "1. Bag of words"
   ]
  },
  {
   "cell_type": "code",
   "execution_count": null,
   "metadata": {
    "collapsed": false
   },
   "outputs": [],
   "source": []
  },
  {
   "cell_type": "markdown",
   "metadata": {},
   "source": [
    "## Removendo caracteres especiais"
   ]
  },
  {
   "cell_type": "code",
   "execution_count": 108,
   "metadata": {
    "collapsed": false
   },
   "outputs": [],
   "source": [
    "sentences = [ str(sentence).lower().replace(\"'\",\"\").replace(\".\",\"\").replace(\",\",\"\").replace('\"',\"\").replace(\"?\",\"\") for sentence in balancedDataset[\"txt\"]]"
   ]
  },
  {
   "cell_type": "markdown",
   "metadata": {},
   "source": [
    "## Tokenizing as sentenças"
   ]
  },
  {
   "cell_type": "code",
   "execution_count": 91,
   "metadata": {
    "collapsed": true
   },
   "outputs": [],
   "source": [
    "#sentencesWithTokens = [nltk.word_tokenize(sentence.lower()) for sentence in sentences]"
   ]
  },
  {
   "cell_type": "markdown",
   "metadata": {},
   "source": [
    "## Removendo StopWords\n",
    "E Removendo espaços"
   ]
  },
  {
   "cell_type": "code",
   "execution_count": 124,
   "metadata": {
    "collapsed": false
   },
   "outputs": [],
   "source": [
    "stop_words = stopwords.words('portuguese')\n",
    "sentencesWithoutStopWords = [word for word in sentencesWithTokens if word not in stop_words]\n",
    "sentencesWithoutStopWords = []\n",
    "#Navegando no conjunto de dados \n",
    "for row in sentencesWithTokens:\n",
    "    sentence = \"\"\n",
    "    for word in row:\n",
    "        if not word in stop_words:\n",
    "            sentence = sentence + \" \"+ str(word)\n",
    "    sentencesWithoutStopWords.append(sentence.strip())\n",
    "#sentencesWithoutStopWords"
   ]
  },
  {
   "cell_type": "code",
   "execution_count": 135,
   "metadata": {
    "collapsed": false
   },
   "outputs": [],
   "source": [
    "from sklearn.feature_extraction.text import CountVectorizer\n",
    "count_vect = CountVectorizer(token_pattern=r\"(?u)\\b[a-zA-Z]\\w+\\b\",lowercase=True, ngram_range=(1, 2))"
   ]
  },
  {
   "cell_type": "code",
   "execution_count": 147,
   "metadata": {
    "collapsed": false
   },
   "outputs": [],
   "source": [
    "from sklearn.feature_extraction.text import TfidfTransformer\n",
    "X_train_counts = count_vect.fit_transform(sentencesWithoutStopWords)\n",
    "\n",
    "#from pprint import pprint\n",
    "#pprint(count_vect.vocabulary_)\n",
    "\n",
    "tfidf_transformer = TfidfTransformer(norm=\"l2\",use_idf=True)\n",
    "X_tfidf = tfidf_transformer.fit_transform(X_train_counts)"
   ]
  },
  {
   "cell_type": "markdown",
   "metadata": {},
   "source": [
    "## Separando o dataset\n",
    "70% e 30%"
   ]
  },
  {
   "cell_type": "code",
   "execution_count": 149,
   "metadata": {
    "collapsed": false
   },
   "outputs": [],
   "source": [
    "X_train_tfidf = X_tfidf[:int(X_tfidf.shape[0] * 0.7)]\n",
    "labels_train = dataFrame['val'][:int(len(dataFrame['val']) * 0.7)]\n",
    "\n",
    "#clf = MultinomialNB().fit(X_train_tfidf, labels_train)\n",
    "#labels_test = df['labels'][int(len(df['labels']) * 0.7):]\n",
    "#X_test_tfidf = X_tfidf[int(X_tfidf.shape[0] * 0.7):]"
   ]
  },
  {
   "cell_type": "markdown",
   "metadata": {},
   "source": [
    "# Treinamento do classificador"
   ]
  },
  {
   "cell_type": "code",
   "execution_count": 17,
   "metadata": {
    "collapsed": true
   },
   "outputs": [],
   "source": [
    "import sklearn\n",
    "from sklearn import svm\n",
    "import pandas as pd\n",
    "import matplotlib.pyplot as plt\n",
    "from matplotlib import style\n",
    "import matplotlib.lines as mlines\n",
    "import numpy as np"
   ]
  },
  {
   "cell_type": "markdown",
   "metadata": {},
   "source": [
    "## Separação do dataset\n",
    "Treino em treino e teste, respectivamente, 65% (856) e 35% (462)"
   ]
  },
  {
   "cell_type": "code",
   "execution_count": 18,
   "metadata": {
    "collapsed": false
   },
   "outputs": [
    {
     "name": "stdout",
     "output_type": "stream",
     "text": [
      "TREINO: \n",
      "Tamanho Vetor de Features:  856 \n",
      "Tamanho Vetor de Label:  856\n"
     ]
    }
   ],
   "source": [
    "#Separação dos targets\n",
    "train = []\n",
    "trainTarget = []\n",
    "\n",
    "totalTrain = datasetInFrame.iloc[0:856]\n",
    "trainTarget = totalTrain[\"val\"].values\n",
    "del totalTrain[\"int\"]\n",
    "del totalTrain[\"val\"]\n",
    "train = totalTrain.values\n",
    "print(\"TREINO: \\nTamanho Vetor de Features: \", len(train),\"\\nTamanho Vetor de Label: \", len(trainTarget))"
   ]
  },
  {
   "cell_type": "code",
   "execution_count": 19,
   "metadata": {
    "collapsed": false
   },
   "outputs": [
    {
     "name": "stdout",
     "output_type": "stream",
     "text": [
      "TESTE:\n",
      "Tamanho Vetor de Features:  461 \n",
      "Tamanho Vetor de Label:  461\n"
     ]
    }
   ],
   "source": [
    "#Separação dos targets\n",
    "test = []\n",
    "testTarget = []\n",
    "\n",
    "totalTest = datasetInFrame.iloc[857:1318]\n",
    "testTarget = totalTest[\"val\"].values\n",
    "del totalTest[\"int\"]\n",
    "del totalTest[\"val\"]\n",
    "test = totalTest.values\n",
    "print(\"TESTE:\\nTamanho Vetor de Features: \", len(test),\"\\nTamanho Vetor de Label: \", len(testTarget))"
   ]
  },
  {
   "cell_type": "code",
   "execution_count": 22,
   "metadata": {
    "collapsed": false
   },
   "outputs": [
    {
     "data": {
      "text/plain": [
       "['Tô tão pensativa ultimamente, nn tô me sentindo bem ??',\n",
       " 'Guilherme só aparece aqui em casa p fazer barba e sobrancelha, incrível q primo uor kk',\n",
       " 'Amo cheiro de café pela manhã.. ???',\n",
       " 'Tô meio aérea',\n",
       " 'Tô mega cansada nn sei que cançaso é esse, só quero minha cama..',\n",
       " 'Mal comecei a ler o livro \"O que realmente importa?\" e já estou amando ????',\n",
       " 'Joana fez eu me arrumar atoa affff cr',\n",
       " 'Hoje ainda é terça mas já tô pensando lá na sextaa, preciso desenrolar um role..',\n",
       " 'Detesto ser mt perfeccionista..',\n",
       " 'Tpm é uma coisa mt bosta mxm, faz meu humor mudar td hr',\n",
       " 'Que preguiça de levantar da cama com esse tempinho aaaai',\n",
       " 'Tô com uma vontade louca de comer tapioca com leite condensado, hmmmm..',\n",
       " 'Comprei meu brinquedinho novo nn vejo a hr de fazer usar, fazer uns cortes amanhã ????',\n",
       " 'AAAAAAAAAAAAAAAAAAAAAAAAAAAAA ??',\n",
       " 'Minhas conversas com Anderson é só textão misericórdia nn sei como ele me aguenta KK',\n",
       " 'Povo sempre acha que eu tô doidona nos role por nn parar de dança um min, mas nem gosto d bbr',\n",
       " 'Eu e Jô parámos a Festa do Cleyton literalmente ????',\n",
       " 'Sdds sair p sambar, tô precisando..',\n",
       " 'Me encontrei com o Jonathan quando estava vindo p casa ta tão difefente nossa, mó sdds',\n",
       " 'Cheguei em casa agr rolando mó churrascada aqui, gst disso hmmm..',\n",
       " 'Que coincidência tô até assustada',\n",
       " 'Brenna tá um amrzin cmg nem tô entendendo me chamando p almoça lá querendo me da comida na boca, deve ter acordado com a bunda virada p lua',\n",
       " 'Anderson é de outro mundo real que pessoa maravilhosa cr',\n",
       " 'Tô tão sem paciência sem.or',\n",
       " 'Jô ta de mais hj, saiu colocando meu nome na lista do evento e fl que eu vou e ponto scrr KKKK',\n",
       " 'Laris e eu somos tão melosas uma com a outra amo isso, rs ????',\n",
       " 'P/ um bom entendedor meia palavra basta ??',\n",
       " 'Acho que vou viajar amanhã, queria mt levar alguém cmg..',\n",
       " 'Até gosto de calor mas tá de mais mds scrr',\n",
       " 'Tô com uma dorzinha d cabeça q ta me dx enjoada, só queria um cafuné',\n",
       " 'Estava mó de boa e do nada desboei.. ??',\n",
       " 'Fico puta quando tô ouvindo msc no rádio e começa a da voz do brasil afffffff, desnecessário',\n",
       " 'Pensando seriamente em viajar dnv sexta..',\n",
       " 'Tô ajudando o Th a fazer surpresa p Jô hj é mês versario d namoro deles, chatos que eu amo mt ????',\n",
       " 'Meus pais dixem q minha cachorra é igualzinha a mim é mole KK',\n",
       " 'Perco a fome quando tô preocupada que saco,',\n",
       " 'A sensação de não ter com quem conta é horrível',\n",
       " 'uso máscara de argila na cara e fico me sentindo MUITO IDIOTA ??',\n",
       " 'ansiosa pelo dia em que vou dizer \"é, suas ótimas escolhas te fizeram ser o merda que você é hoje, eu avisei\"',\n",
       " 'dor de cabeça é meu 2º nome hoje',\n",
       " 'sonhando com sábado ?? q ansiedade',\n",
       " 'meu sonho de princesa um maine coon pra chamar de meu, pena q tão caro',\n",
       " 'meu nome nos contatos da minha prima é \"nikiti ??\" kkkkkkkkkk ela né escrota não ela',\n",
       " 'preguiça máxima de encarar a vida uma hora dessas',\n",
       " 'mas enfim eu to amando minha vida e nadinha me tira esse sentimento gostoso de satisfação ??',\n",
       " 'ajudo geral nessa porra mas não vem querer tirar com minha cara pq eu viro o cão na mesma hora',\n",
       " '0 paciência pra burra velha que se faz de vítima, adora cena e até chora. Nem tenta cmg, filha! Qnd eu tô na razão então... fodeu',\n",
       " 'acordar cedo nesse frio é maior sacanagem',\n",
       " 'preciso: me exercitar  estudar beber mais água  sair menos  juntar dinheiro   consigo? muito difícil, acho que não',\n",
       " 'quando coisas boas acontecem td muda muito... até o jeito de lidar com coisas ruins é diferente',\n",
       " 'e o que essa boquinha linda faz, hein?   almoça come sorvete e várias besteiras',\n",
       " 'fim de semana best form como disse minha amiga camilão   coisar e ser feliz',\n",
       " 'e quando você acorda td dolorida? ai q saco',\n",
       " 'nunca senti tanto sono como hoje ??',\n",
       " 'cheguei em casa e tava há maior tempão usando o 4G CRENTE que era o wi-fi ???????',\n",
       " 'gente não usa rsrs pra rir não usa pra deboche rs',\n",
       " 'HAHAHAHAHAHAHHHAHAHAHAHAHAHAHAHHAHAHA   MANO   q bosta',\n",
       " 'acordar cedo às vezes é até bom mas dormir até tarde é excepcional PENA QUE EU NÃO CONSIGO',\n",
       " 'maior vergonha do mundo: mandar msg e ser ignorada',\n",
       " 'não vou sextar   triste e com tesao',\n",
       " 'queria sextar enchendo a cara ou vendo filme agarradinha... muito 8 ou 80 mesmo',\n",
       " 'eu só queria brotar na base e fazer sacanagem',\n",
       " 'torta salgada é horrível',\n",
       " 'várias hamburguerias tops no centro do rj... apenas quero ir em todas ??',\n",
       " '????',\n",
       " 'eu tinha q ir ao banco mas tô com tanta preguiça, meu Deus... ??',\n",
       " 'é pedir demais querer ficar de conchinha assistindo netflix e dando uns bj... parece q sim',\n",
       " 'pipipi popopo não façam isso não gosto af seus chato sei que sei que lá',\n",
       " 'ao invés de ficar me frustrando e comentando sobre algo q n gostei eu ignoro q é melhor rsrsrs terapêutico',\n",
       " 'deve ser mo chato viver pra problematizar coisa que não faz diferença na sua vidinha ne ???????porra, deixa a galera fazer o q quiser carai',\n",
       " 'ola @ será se podemos se amar um cadin será se',\n",
       " 'descobri q saio cedo do job amanhã e já quero sair pra comer, help',\n",
       " 'é cuzao mas tão lindo o rosto ???????',\n",
       " 'Acabei de vim da igreja estou me sentindo abençoado ????',\n",
       " 'Que Papai Do Céu Abençoe Nos Hoje, Amanhã e Sempre.. Sigo minha luta ???',\n",
       " 'Não basta querer, você também precisa lutar, Sonhos só se tornam realidade se você batalhar ??',\n",
       " 'TRIO ELRTRICO MAS QUE COMFIRMADO + 100 CAIXA DE CERVEJA ???? #OSSENNAFANTASYPARTY2 ??',\n",
       " 'Nois sofre a covardia mais não comete ela ?',\n",
       " 'ESTAMOS TENTANDO TRAZER O BOM EO MELHOR PRA VOCÊS PÚBLICO LINDO, SEGUE O FLUXO AQUECIMENTO&amp;CARREATA E LOGO ALI! VAI DA MERDA ?? #OsSenna',\n",
       " 'Bom dia ??',\n",
       " 'Fuii ????',\n",
       " 'Deus vai me proporciona essa meta na fé ??',\n",
       " 'Vou toma aquele banho agr ??????',\n",
       " 'Eu quieto eu ganho mas ??',\n",
       " 'Acabei de Almoçar vou parti pros trabalhos novamente',\n",
       " 'Horário de almoço ????',\n",
       " 'Só merece o meu amor Quem é Mulher de respeito ????',\n",
       " 'Convoca geral pra cá que a festa vai ser diferente, Sexo, transa, muita meczada e aquelas coisinhhas mais pra frente ???? #CONTAGEMREGRESSIVA',\n",
       " 'To pique social',\n",
       " 'Vim bonitinho pro trabalho ????',\n",
       " 'Bom diaa',\n",
       " '#OSSENNA. #OSSENNA. #OSSENNA. #OSSENNA.',\n",
       " 'Vai rola o churrasco dos Crias',\n",
       " 'Sai do trampo to  chegando em casa jaa',\n",
       " 'Ja tem 22 meninas na lista pra subir no Trio dos Senna ????',\n",
       " 'Aquele 1% é vagabundo Safado e elas gostam ????',\n",
       " 'Alguma menina que Subir no trio dos Senna dia 5 ? Mas informações me chama rs',\n",
       " 'Vou fazer umas listas das mina que vai subir no trio dos senna',\n",
       " 'Lembrando que na Carreata só Sobe Mulheres e só as Selecionadas ???? #OSSENNA. #DIA5 . #OSSENNA.',\n",
       " 'Meu aniversário em fevereiro a tropa vai parti pra Arraial só selecionado ????',\n",
       " 'Bom dia ??',\n",
       " 'Vou da uma dormida amanhã é dia de trampo ??',\n",
       " 'To assistindo uma Netflix comendo pipoca só faltou a Companhia ??',\n",
       " 'To fora dessas mandadas ??',\n",
       " 'Muita fé',\n",
       " 'Tô de saco cheio de problemas',\n",
       " 'Essa porra de 4 Fotos e uma palavra no Facebook tá chato já',\n",
       " 'Estou assistindo uma Netflix ????',\n",
       " 'O dinheiro só compra gente barata , gente de valor se banca sozinha ????????',\n",
       " 'To badalado pela gaiola ??',\n",
       " 'Tô partindo de Penha',\n",
       " 'Minha moto tá no óleo ??',\n",
       " 'Estou no horário de almoço ??',\n",
       " 'Quero bota aparelho de novo',\n",
       " 'Boa tarde ????',\n",
       " 'Melhor novela namoral',\n",
       " 'Final da novela ta chapa quente',\n",
       " 'Vou toma um banho fica cheirosinho ????',\n",
       " 'Cheguei em casa agora',\n",
       " 'Tá a cara da chuva',\n",
       " 'Tô saindo do trabalho agr',\n",
       " 'Melhor baile da Cdd era o Baile do Coroado namoral',\n",
       " 'Você vê oque eu tenho, Mas não vê oque eu faço! Vai Trabalha...',\n",
       " 'Acabei de almoça to satisfeito',\n",
       " 'Vou da uma almoçada agr tô cheio de fome',\n",
       " 'Acabei de corta o cabelo do cara aqui',\n",
       " 'Pretendo sair essa semana nn ??',\n",
       " 'Abada dos Senna tá lindo, Semana que vem tá aí tá ????',\n",
       " 'Nossa marola é ostenta e tira onda fica embrasado e comer muita piranha ?????? #OsSennaFantasy  #VemNovembro',\n",
       " 'Estou no tedioo',\n",
       " 'Estou cheio de fome jaa',\n",
       " 'Domingo acho que vou',\n",
       " 'To doido pra curti uma praia ????',\n",
       " 'Cheguei atrasadão no trabalho',\n",
       " 'Estou atrasadão ????',\n",
       " 'Bom diaa',\n",
       " 'Vou dormi estou de saco cheio já de certas pessoas ???',\n",
       " 'Doideira',\n",
       " 'Mas amanhã eu trabalho ossada',\n",
       " 'Queria está no BarraMusic agora',\n",
       " 'Estou jantando',\n",
       " 'Ta maior calor pqp',\n",
       " 'Ganhei uma oração tô tranquilo agr ??',\n",
       " 'Estou assistindo a novela',\n",
       " 'Tô cheio de fome',\n",
       " 'Esse BarraMusic hj vai bomba',\n",
       " 'To tomando uma cerva com os cria na tb',\n",
       " 'Só uma praia agora a noite namoral',\n",
       " 'Tô cheirosinho na quele pique ????',\n",
       " 'Tô partindo pra casa',\n",
       " 'Acabei de almoçar tô satisfeito',\n",
       " 'Mas tarde vou na igreja sem falta',\n",
       " 'Vou da uma almoçada agr',\n",
       " 'Se eu não te procuro a gente nem se fala to vivendo tão distante do seu mundo ????',\n",
       " 'Cansei de farra Curtir a madrugada Beijar na boca só pra me satisfazer ????',\n",
       " 'Ainda bem que to no Ar-condicionado ????',\n",
       " 'Carreata dos Senna quero um carro pra ir tô enjoado de moto ja',\n",
       " 'Escutando uns pagode pela tarde  ????',\n",
       " 'Toda gostosinha e me excita ??',\n",
       " 'Malandragem é poder Ficar despreocupado????',\n",
       " 'Quer ser minha namorada dividir um sonho novo ????',\n",
       " 'Bom dia ??',\n",
       " 'Fuii',\n",
       " 'Vou da uma dormida que amanhã é dia de trampo',\n",
       " 'To precisando muito de ir na igreja conversa com Deus..',\n",
       " 'A primeira oportunidade que eu te nn vou deixa escapa ??',\n",
       " 'Meu pai da aula na cozinha ??',\n",
       " 'Muito ruim acorda cedo',\n",
       " 'Daqui a pouco vou da uma dormida',\n",
       " 'Tô comendo frango assado com batata ????',\n",
       " 'Vontade de comer um açaí',\n",
       " 'Será que a bibi atirou? ??',\n",
       " 'Vou toma um banho bem gelado agr ??',\n",
       " 'To cansadão vou toma um banho e ir dormi',\n",
       " 'Estou partindo pra casa',\n",
       " 'Que Deus abençoe todos meus amigos do coração ?',\n",
       " 'Mudame Senhor mudame o meu coração ??????',\n",
       " 'Jardel meu rlk Deus é com vc mn bom ????',\n",
       " 'Tô ouvindo uns louvores',\n",
       " 'Estou no horário de almoço ??',\n",
       " 'Fome reinando',\n",
       " 'Eu amo meu jeito bipolar',\n",
       " 'Meu patrão falou pra min arranja uma mulher e para de sair ??????',\n",
       " 'Cheguei no trampo agr',\n",
       " 'Meu pai  vai me leva de carro pro trabalho ????',\n",
       " 'Bom dia ?',\n",
       " 'Fuii zZzzZ',\n",
       " 'Ta repreendido todo mal olhado sobre em min!!',\n",
       " 'Acabei de assistir uma Netflix',\n",
       " 'Final do ano a bruxa tá solta doido pra fazer alguma família chora .',\n",
       " 'Vou sair mas ñ, vou fica suave um pouco',\n",
       " 'Pessoa invejosa é  um cão',\n",
       " 'Tô boladão namoral',\n",
       " 'Xoo olho grande',\n",
       " 'Só problemas ta repreendido',\n",
       " 'Tô cheio de sono',\n",
       " 'Tô dentro do ônibus indo pra casa',\n",
       " 'Daqui a pouco tem que  volta',\n",
       " 'Vim aqui em casa de carro com meu parceiro de trabalho',\n",
       " 'Os verdadeiros são poucos, Mas são suficiente pra mim ??',\n",
       " 'Vou leva só os(a) selecionados(a)',\n",
       " 'Meu aniversário em fevereiro quero leva minha rapaziada pra arraial pra curti comigo lá',\n",
       " 'Índio come xota índio come cu ????',\n",
       " 'Tem a 01 a 02 ea 03 ????',\n",
       " 'Tá demorando muito pra da 13hr',\n",
       " 'Vou almoça aquele strogonoff ??',\n",
       " 'Hoje é dia de farpelas ??',\n",
       " 'To afastado da igreja mais nunca de Deus ..',\n",
       " 'Tô cheio de fome pqp',\n",
       " 'Render não é meu forte só falo se fala comigo!!',\n",
       " 'Cheguei aqui no trampo cheio de fome',\n",
       " 'Bom dia ??',\n",
       " 'Tá rolando o churras dos Cria',\n",
       " 'Estou me sentindo sozinha e sem amigos ????',\n",
       " 'Me ensina a te olhar sem querer te beijar? @',\n",
       " 'Saudades é uma coisa tão filho da puta.',\n",
       " 'Queria mata a sdd desse idiota ????',\n",
       " 'É na dificuldade que a gente vê as verdadeiras amizades.',\n",
       " 'So esse brigadeiro msm da melhor forma ????',\n",
       " 'So esse filme msm',\n",
       " 'Quando tu faz a pergunta pro boy e ele manda essa \"chama na dm bb \" adorei kkkkk ?????',\n",
       " 'To com sdd desse idiota e ele tlgd ??????',\n",
       " 'Não sou louca, apenas vivo em um mundo que não vale a pena ser normal.??',\n",
       " 'Alguem pra vim me verr ?',\n",
       " 'Aula de matematica ta mec...',\n",
       " 'Mo paz sozinha em casa ???',\n",
       " 'Eai ?',\n",
       " 'Sono kd vcc ??',\n",
       " 'Filha chora e mãe não vê..',\n",
       " 'Ai ai esse gp ta oooo trem bala',\n",
       " 'Quero um namorado ta foda ja ??????',\n",
       " 'Me segue que eu sigo de volta ?',\n",
       " 'Gp da sala nos so fala merda pqp kkkkk',\n",
       " 'Tô afastado da igreja, nunca de Deus..',\n",
       " 'Lili canto pro mano ??',\n",
       " 'Cabelo cacheado chama mais atenção q cabelo liso',\n",
       " 'Minha turma e a melhor ?????',\n",
       " 'Ele e feliz com a felicidade dele ????????',\n",
       " 'FODA-SE',\n",
       " 'Homem gosta é de desprezo, mulher que dá atenção demais eles tiram como otária. ??',\n",
       " 'Koe koe ?',\n",
       " 'Quero cumer pizza...',\n",
       " 'Pra mim fala eu te amo pra vc e pq eu amo de vdd....',\n",
       " 'Alguem querendo cvs, so chama no wpp 990191219 ?',\n",
       " 'Esse grto me faz falta...',\n",
       " 'Crlh so pq ta frio geral quer fala de sexo kkkkkk',\n",
       " 'Mamae fez bolo pra mim ??????',\n",
       " 'Ser solteira e bom mais ter um surtado que vc pode chama de mozão nao e nada mal...',\n",
       " 'Fdp kkkkkkk meu prof e foda',\n",
       " 'Prof de historia ta puto e bolado kkkkkkkk crlhhhhhhhh',\n",
       " '- Amiga levanta me da sua mão. - Tá mas pra onde vamos ? - Se prostituir precisamos de dinheiro????',\n",
       " 'AAAAA geral com ciumes da thalita pqp ????????',\n",
       " 'Porra fanny ta me pertubando',\n",
       " 'Nao ame, faça amor ?',\n",
       " 'Sdd do seu bjus e da suas idiotices... ????',\n",
       " 'Crlh mo tedioooo',\n",
       " 'Não se iluda com um sorriso, a maldade está na mente.',\n",
       " 'Sabrina sem luz, sabrina com luz kkkkkkk nig vai entende nd',\n",
       " 'A traição nunca vem de um estranho',\n",
       " 'Ai crlh que porra e essa',\n",
       " 'To resacada paii ??????',\n",
       " 'No ttk nig sobrevive com pouco ??',\n",
       " 'Quero volta pra nilopolins',\n",
       " 'Crlh que resenha foi aquela pprt so tinha maluco adorei kkkkkk aprocima eu apoio com catu liberada ?????',\n",
       " 'E colega vc ta querendo midia me imitando qual foi da sua ????????????????',\n",
       " 'Crlhhh essa resenha me deixou pensando lento pprt ????????????',\n",
       " 'Crlh ta mo paz ????',\n",
       " 'Thalita no comando ??',\n",
       " 'Thalita so me fode kkkkk',\n",
       " 'Mo paz',\n",
       " 'Nunca beije o mesmo erro duas vezes.',\n",
       " 'Ta geral fudido ????????????',\n",
       " 'Crlhhh mo fome da porra...',\n",
       " 'Hoo hoo solta a putaria nessa porra',\n",
       " 'Se ele n liga pra mim fds a catuaba me faz tao bem....',\n",
       " 'Faça durar para sempre, a amizade nunca termina.',\n",
       " 'Chegueii ??',\n",
       " 'O rap salvou mais moleque que qualquer projeto social...',\n",
       " 'Mo tedio',\n",
       " 'Iiii prof surto legal agr kkkkkkkk',\n",
       " 'O veneno do mundo é a língua do povo.',\n",
       " 'Eu daria tudo para sentir o calor do teu abraço.',\n",
       " '30% kkkkk',\n",
       " 'odeio assunto repetitivo',\n",
       " 'acabei de pintar as unhas de vermelho e tô me sentindo a própria Mia Wallace',\n",
       " 'acordei muito cedo, quero me matar',\n",
       " 'eu nunca dormi tão mal quanto hj',\n",
       " 'meninas que têm preguiça de consertar os Patch da jaqueta e anda com eles pendurados',\n",
       " 'eu acordo todos os dias pra ouvir lunchbox live',\n",
       " \"no one's gonna save us now, not even god\",\n",
       " 'to me sentindo tão estranha experimentando a blusa rosa pra usar amanha  acho q ja deve fazer anos q n uso uma roupa rosa de vdd só rosé',\n",
       " 'N aguento mais o video do finn cantando my kind of woman aparecendo no meu feed eu choro toda vez',\n",
       " 'EU QUERO MAIS PAOZINHO',\n",
       " 'salem sera meu melhor amiguinho',\n",
       " 'acho que se ano que vem eu morar sozinha vou adotar um gatinho pra não me sentir tão sozinha assim',\n",
       " 'eu nao consigo achar nem blusa do black flag, quem dira aquele casaco',\n",
       " 'eu tive q me sgurar MTO pra nao parar ele e perguntar \"pqp onde vc comprou isso me diz pf eu te pago se me disser\"',\n",
       " 'hoje tremi forte na base na rua vendo um garoto q devia ter uns 13 anos c o CASACO MAIS LINDO Q JA VI e era do black flag',\n",
       " 'ja passei de ano em portugues e biologia nem acredito caralho',\n",
       " 'PROMEIRA VEZ NO ANO Q TIREI NOTA ALTA EM PORTUGUES EU VOU CHORAR MEUDEUS',\n",
       " 'a física é muito linda e eu não sei como alguém não fica com os olhos brilhando conversando sobre o universo',\n",
       " 'porra eu ainda to em choque com a kilonova de ontem... sério...',\n",
       " 'se deus for top mesmo eu consigo achar um cantinho lindinho e silencioso e não tão caro e que dê p enfiar fogão e m\\x85 https://t.co/vK6yAzH77W',\n",
       " 'a jovem brasileira sofre',\n",
       " 'pq quitinetes no rio sao tao caras? morte ao capitalismo',\n",
       " 'Tenha um amor q te dê chocolate',\n",
       " 'perdi o horário de ir no cinema ótimo sabrina parabens',\n",
       " 'Vou tentar ir no cinema hoje pra desestressar a cabeça',\n",
       " 'essa galera contra campanha de liberdade de genero ta insaaaana',\n",
       " 'A vida é uma cachorra.',\n",
       " 'N ACREDITO QUE N VAI TER JAZZ E BLUES fora temer',\n",
       " 'Tô me sentindo muito mal, fisicamente e mentalmente.',\n",
       " 'Um ano atrás, eu nunca imaginei que minha vida seria como é agora.',\n",
       " 'É muita coisa pra minha cabeça',\n",
       " 'Tô no ponto de desistir tudo e ir embora  de vezes..',\n",
       " 'Fora isso não confio em ninguém',\n",
       " 'Mas ultimamente só tenho duas pessoas que posso confia Deus e minha mãe..',\n",
       " 'Queria confia nas pessoas pra poder contar tudo',\n",
       " 'Ultimamente tá tudo dando errado',\n",
       " 'Minha vida tá de uma forma que só Deus sabe',\n",
       " 'É tão ruim tem a sensação que está sozinha pra tudo, não pode contar com ninguém..',\n",
       " 'O melhor é não fazer planos, porque a vida sempre dá um jeito de nos surpreender ou decepcionar.',\n",
       " 'não da pra conversar com quem demora mais de 1 minuto pra responder',\n",
       " 'Ainda tá muito cedo pra dizer bye??',\n",
       " 'Mano sou a única maluca da turma kkkkkkkkkkkkkkkkkkkkk',\n",
       " 'A gente tá discutindo todos os dias &lt;\\\\3',\n",
       " 'Tô me amarrado em pagode',\n",
       " 'Saudade de conversas direitinho com meu bb',\n",
       " 'Se for pra demorar par responder nem conversa comigo.',\n",
       " 'Meu cabelo tá muito cheio',\n",
       " 'Meu professor de Ed.física é todo lesado',\n",
       " 'Como me satisfazer na cama: Não me acorde.',\n",
       " 'Mesmo que seja difícil, tente! As barreiras da vida são mais fáceis do que você pensa.',\n",
       " 'Cheguei ??',\n",
       " '????',\n",
       " 'Ingrid: Tudo safada vcs  Ingrid: Dhiu e a primeira Carla: Eu tô fora Carla: Só dou uns beijo e vou embora  ??????????',\n",
       " 'Tomar injeção na bunda não é nada bom!',\n",
       " 'Devia trabalhar na globo',\n",
       " 'Valentina chora com tudo',\n",
       " 'Bom dia ??',\n",
       " 'Queria receber aquela ligação inesperada',\n",
       " 'Queria que não houvesse brigas entre eu e as pessoas que eu amo!',\n",
       " 'Do nada fiquei triste ??',\n",
       " 'Visualizou e não respondeu ??????????',\n",
       " 'O melhor foi a Mari falando das transas dela KKKKKK',\n",
       " 'Não tem como não ama essa garota',\n",
       " 'Tenho as melhores amigas mané ?',\n",
       " 'Rir muito com essas garotas hoje kkk',\n",
       " 'Ray e a Marina conversando comigo é muito engraçado kkkkk',\n",
       " 'A garota é muito escrota',\n",
       " 'Ray deixou minhas unhas maravilhosas ??',\n",
       " 'Mari é mais safadinha do Bonde kkk',\n",
       " 'Queria que as coisas fosse diferente',\n",
       " 'fuuuiii',\n",
       " 'chegou minha hora de ir pra casa hehehehe',\n",
       " 'Quero ir pra casa...',\n",
       " 'curso tá muito chato!',\n",
       " 'Quero dormir!!!!',\n",
       " 'Bom dia ?',\n",
       " 'Tiro, porrada e bomba',\n",
       " 'Tem poucos amigos mas é suficiente pra me esquecer de tudo ?',\n",
       " 'Aquelas brincadeiras bobas ?',\n",
       " 'E cócegas, tiram meu sorriso tão fácil ?',\n",
       " 'Amo conversar com as pessoas que me animar que faz brincadeiras só pra me fazer rir',\n",
       " 'Eu faço merda depois me arrependo mané ??',\n",
       " 'Cami: tô indo Cami: com minha camisinha de morangu Dhiu??: Adoooroo, traz 10 pq a noite vai ser longa??  Melhor amiga??????',\n",
       " 'Cami: vamo tramsa Dhiu: Vem aqui sua deusa do meu universo  Dhiu: Deu até tensão, só vem, que estou esperando??',\n",
       " 'A pessoa fica bolado comigo e eu nem sei o motivo ??',\n",
       " 'Admiro as pessoas que, por dentro é uma tempestade, e por fora consegue fazer florir sorrisos nos rostos de outras pessoas.',\n",
       " 'Não é tristeza. Não é raiva. Não é amor. É só vontade de ficar quieto, de ficar sozinho, de ficar em paz. Sei lá.',\n",
       " 'Geralmente quem não sabe o que quer, acaba perdendo o que tem.',\n",
       " 'Minha mente é mó confusão.',\n",
       " 'Pq não posso comer ??',\n",
       " 'Senhor tira essa vontade de comer besteiras',\n",
       " 'Dor de cabeça',\n",
       " 'Preciso dormir ??',\n",
       " 'Acordei mal',\n",
       " 'Bom dia ??',\n",
       " 'Tô quase dormindo',\n",
       " 'Preciso de um banho',\n",
       " 'Tô muito cansada desde de ontem ??',\n",
       " 'Bêbada de sono ??',\n",
       " 'Bom dia ??',\n",
       " 'Tô ficando com sono ??',\n",
       " '??',\n",
       " 'Senta um pouquinho ??',\n",
       " 'Só .....??',\n",
       " 'Vai liberar ????',\n",
       " 'Soca soca ??',\n",
       " 'Olha pra fiel e falar vou roubar seu macho????????????',\n",
       " 'Tu gosta não gosta ??????',\n",
       " 'Palma da mão no chão ????',\n",
       " 'Toma toma safadinha ??',\n",
       " 'Senta com bunda ??',\n",
       " 'Pra frente pra trás ??',\n",
       " 'Rebola rebola rebola ??',\n",
       " 'OOOOH OOOHH OOOHH??',\n",
       " 'Hoje tô que tô ????',\n",
       " 'Foi no baile que me apaixonei ??',\n",
       " 'Começou caralho ????',\n",
       " 'AIIIIIII MEU DEUS',\n",
       " 'Dj zebrinha toca aquela ????',\n",
       " 'Que cheirinho de sexo ??????????',\n",
       " 'Então para de kaô, senta de vaga ??????',\n",
       " 'Então pega o telefone desbloquear a tela ????',\n",
       " 'Nós amamos também ????',\n",
       " 'Dj lindão chegou ????????',\n",
       " 'Só sei que não sei ??????',\n",
       " 'Tô elétrica mané ??',\n",
       " 'Tédio',\n",
       " 'Vou dormir um pouco',\n",
       " 'Ligar o som, aumentar o volume e esquecer os problemas. ????',\n",
       " 'Mas a preguiça de tomar café tá grande ??',\n",
       " 'Tô com fome!',\n",
       " 'Bom dia??',\n",
       " 'Acabouuuuu ????',\n",
       " 'AAAAHH NÃO ??',\n",
       " 'Queria ter dinheiro pra fazer um casamento e casar comigo mesma também ??',\n",
       " 'Acaba não novela ??',\n",
       " 'Aí meu coração ??',\n",
       " 'Vou chorar ?? Que Novela',\n",
       " 'Mano ler aquilo tudo me deixou muito mal??',\n",
       " 'Que raiva mané ????',\n",
       " 'Minha unha quebrou ??????',\n",
       " 'oi n to te ouvindo mt bem fala mais perto da minha boca',\n",
       " 'mt ruim qnd vc não consegue acreditar em mais nenhuma palavra q a pessoa fala pq vc pode até se esforçar mas NÃO DÁ',\n",
       " 'Bom dia ??',\n",
       " 'Chega, isso tá fora de controle',\n",
       " 'As pessoas acham que sou boba, realmente sou, mas isso acaba hoje',\n",
       " 'Vou começar ser àquela garota que não se importa com nd que tá foda-se pra tudo, aí queria ver quem não vai da valor pra essa trouxe aqui!!',\n",
       " 'EU TENHO QUE ACEITAR TUDO ??',\n",
       " 'Só me estressar essa dor de cabeça vem??????????',\n",
       " 'Que saco',\n",
       " 'Tô esgotada de tudo mané De TUDO!',\n",
       " 'Tô cheia de ódio',\n",
       " '??????',\n",
       " 'Que ódio',\n",
       " 'Odeio quando sinto nojo da pessoa e  vejo passando do meu lado????',\n",
       " 'Não queria ter visto ele????',\n",
       " 'A gente já acordar se estressando porra',\n",
       " 'Bom dia ???',\n",
       " 'Só pq tô postando trecho de música no status do wpp todo mundo agora tá falando que tô apaixonada ou jogando indireta ????',\n",
       " 'E não fiz nada incrível!!',\n",
       " 'Tô muito cansada hoje',\n",
       " 'Eu vou dormir',\n",
       " 'Hehehe vou dormir no calor ??',\n",
       " 'Boa noite ??',\n",
       " 'Odeio gente chata!!!',\n",
       " '\"Agora quero saber muito onde você deve ter me visto! Fico preocupado com essas coisas\"  Iiiih tá foragido ????????',\n",
       " 'Depois que erram comigo mais de uma vez, eu nunca mais sou a mesma pessoa, aliás, isso só faz eu me afastar cada vez mais..',\n",
       " 'Ele não é estranho??',\n",
       " 'Acho que já vi o Guilherme em algum lugar ??',\n",
       " 'Vou fazer miojo???',\n",
       " 'Não sei oq faço pra comer ??',\n",
       " 'Hoje eu apenas estou existindo.',\n",
       " 'Preciso de juízo onde posso encontrar ?  Kkkkk',\n",
       " 'Posso tá no meio de um tiroteio mas tô lá igual uma hiena com os dentes aceso rindo ??',\n",
       " 'Eu não sei levar as coisas a sérios ??',\n",
       " 'Meu sonho é ser inteligente, será se eu pintar meu cabelo de preto eu fico ???',\n",
       " 'EUUUUU PRECISO COMER ALGUMA COISA!!! mas tô com preguiça de levantar :3',\n",
       " 'Tô igual um zumbi na casa??',\n",
       " 'Necessito dormir mds??',\n",
       " 'Eu seria a pessoa mais rica desse mundo ??',\n",
       " 'Já pensou se tudo o que você pensa antes de dormir se realizasse? ??',\n",
       " 'Eu não consigo dormir que raiva ??',\n",
       " 'essa semana podia acabar por aqui mesmo to sem condiçoes nenhuma de prosseguir',\n",
       " 'Cara.. n consigo fingir nenhum sentimento, qnd gosto de alguém fica muito na cara e quando não gosto tb',\n",
       " 'Como eu vou dormir se não tiro o olho desse viciante???',\n",
       " 'Vou dormir mais um pouco ??',\n",
       " 'Bom dia ??',\n",
       " 'Tô muito confusa, não sei o que eu quero pra minha vida.',\n",
       " 'Acho que vou dormir',\n",
       " 'Sinceramente? Eu já não me surpreendo com mais nada.',\n",
       " 'Tira até meu tédio ?',\n",
       " 'Amo quando a pessoa tem assunto pra falar comigo ?',\n",
       " 'E meu cllr não para ????',\n",
       " 'Pão +queijo+ presunto= vida???',\n",
       " 'Que fome senhor',\n",
       " 'A gente fica demostrando carinho com a pessoa e depois vem dizer que sou mal?? Pode isso Brasil? Não pode!',\n",
       " 'Eu sou muito louca',\n",
       " 'Eu sou muito mal deixei o garoto no vácuo ??',\n",
       " 'Dhiu: Vai fazer cafuné no meu cabelo até dormir  :Até você dormi, e ainda continuo fazendo  Aaaahh????',\n",
       " 'Odeio fazer alguma coisa é não fica legal ?? ODEIOOOOOOOOOOOOOOOOO',\n",
       " 'Tudo ou nada, meio termo não rola.',\n",
       " 'Tô triste',\n",
       " 'Meu pavê não ficou legal ??',\n",
       " 'Eu não tô entendo mais nada gente ??',\n",
       " 'SOCORRO ESTOU TENDO UM ATAQUE',\n",
       " 'E tô sem carregador, AI MEU DEUS!!! Meu cllr tá descarregado',\n",
       " 'Minha tia levou o carregador dela',\n",
       " 'Agora que lembrei',\n",
       " 'E o clima ficou Chatooo????',\n",
       " 'Que frio é esse ??',\n",
       " 'Não tô nada bem ??',\n",
       " 'Mano que sono é esse ??',\n",
       " 'Tô cheia de sono',\n",
       " 'Vou dormir',\n",
       " 'Quem só faz besteira? Isso mesmo  Euzinha??',\n",
       " 'é bem ruim qnd você quer conversar com alguém mas n tem assunto. p ajudar a pessoa ainda fica on, e vc pensa q ela está com algm melhr q vc??',\n",
       " 'Aí que dorzinha de cabeça ??',\n",
       " 'Ninguém chegou no curso ainda só eu kkkkk',\n",
       " 'Bom dia ??',\n",
       " 'Eu tô Caindo de sono ????',\n",
       " 'Vou dormir agora ????',\n",
       " 'Eu nunca mais tinha ficado tanto tempo conversando com alguém meu Deus ??????',\n",
       " 'Manooo vou acordar muito fudidaa  ??????',\n",
       " 'Eu vou né, tô precisando de nota nela mesmo ??????',\n",
       " 'Minha professora me convidou pra ir pro aniversário dela ??????????',\n",
       " 'Quem vai ganhar um ursinho muito fofo?   Euuuuuuuuzinhaaaaa ????',\n",
       " 'Posso sumiu um minuto',\n",
       " 'Mas ninguém deixa eu ir??',\n",
       " 'quem quer rir tem que fazer rir',\n",
       " 'tô me sentindo bem não, vou bargar',\n",
       " 'decidi mudar por mim, agora nada nem ninguém me faz voltar atrás',\n",
       " 'já perdi muitos amigos envolvido nessa vida, tá tudo gravado na mente e se tornou relikia ??',\n",
       " 'Mc vitinho - nessa vida tudo pode acontecer',\n",
       " 'tu é piranha porra ????????',\n",
       " 'gratidão a Deus nunca é demais',\n",
       " 'vagabundo marola ????',\n",
       " 'me afastar daquilo que me atrasa',\n",
       " 'ingratidão é esquecer no sucesso de quem um dia lhe ajudou a alcançá-lo',\n",
       " 'os sonhos de Deus são maiores que os meus',\n",
       " 'mais uma chance de eu ser melhor doque ontem ??',\n",
       " 'não podemos bobear, o inimigo é cruel, peço muita proteção pra papai do céu',\n",
       " 'nós só acredita vendo mrm',\n",
       " 'corrida hoje, vitória amanhã',\n",
       " 'hoje tem fluminense e nada mais importa',\n",
       " 'só vai beber da minha água quem passou cede comigo!',\n",
       " 'covardia nós sofre mas não comete',\n",
       " 'vagabundo acha que eu tô de óculos',\n",
       " 'se a meta é ser feliz, bora que eu já tô com pressa... Bom dia ??',\n",
       " 'ai drogas',\n",
       " 'cachorro quente',\n",
       " 'qualquer nescau quente',\n",
       " 'tempinho favorável',\n",
       " 'fico marolando vendo vídeo no face',\n",
       " 'só de olhar tu sabe que ta cheio de maldade, conspirando pelas costas, agindo na falsidade',\n",
       " 'pior ano da minha vida',\n",
       " '??',\n",
       " 'bom dia ?',\n",
       " 'Se Deus encheu a sua vida de obstáculos, é porque Ele acredita na tua capacidade de passar por cima de cada um deles. ??',\n",
       " 'já acordei puto, não era pra eu ter dormido',\n",
       " 'vou amassar agora',\n",
       " 'mas qual foi que o almoço não sai nunca pacero',\n",
       " 'só não pode confundir o sorriso',\n",
       " 'minha tranquilidade é o desespero de vários',\n",
       " 'crlh q merda',\n",
       " 'Na hora certa, tudo dará certo ??',\n",
       " 'ficar cabeludo é brabão',\n",
       " 'quem rir por último rir melhor!',\n",
       " 'esse ano morreu varios cria bom, e uns se encontra atrás das grades',\n",
       " 'melhor forma ir dormir',\n",
       " 'o chefão ja deu a ordem, larga os dedo no melicia, agora é tudo 2, quem ta fechando é os cria ??',\n",
       " 'meu melhor amigo é Deus e o segundo melhor sou eu ??',\n",
       " 'que hoje seja um bom dia',\n",
       " 'isso vai ter que mudar...',\n",
       " 'postura é uma coisa que nao se cobra, cada um tem que saber impor a sua!!',\n",
       " 'A vida não é um conto de fadas',\n",
       " 'Fluminense te amar é minha raiz',\n",
       " 'Sei que é difícil, mas não é impossivel, fé na caminhanda crendo em Jesus Cristo',\n",
       " 'Deus tarda, mas não falha.',\n",
       " 'boladão com a família',\n",
       " 'pode passar o tempo que for, mas tem momentos que nós nunca esquece',\n",
       " 'O cair e do homem é o levantar e de Deus ??',\n",
       " 'Troca, troca, aplica, aplica ??',\n",
       " 'só um futebol',\n",
       " 'Progredindo no silêncio pra não surgir mal olhado.',\n",
       " 'Onde tem duas pessoas felizes, tem sempre uma terceira morrendo de inveja.',\n",
       " 'Mais uma chance de ser melhor doque ontem, bom dia ??',\n",
       " 'Mesmo na maior tribulação o meu respirar é tranquilo porque Deus cuida de mim.',\n",
       " 'Eu posso, eu consigo ??',\n",
       " 'essa novela ta mexendo com a mente dessas novinha ??????',\n",
       " 'coroa quando quer esculaxa ??',\n",
       " 'Eu disse pra minha mãe que ia fazer algo pra comer e até agora não fiz ??',\n",
       " 'Estou me sentindo tão mal',\n",
       " 'Fui descansar, acordei agora kkkk',\n",
       " 'Cheguei em casa 16:20, passando mal horrores',\n",
       " 'Não consigo achar o remédio na bolsa da minha mãe, acho tudo, chiclete, bombom, perfume, batom, óculos, caneta, uma pessoa, menos o remédio??',\n",
       " 'Pra que insistir em uma votação que todo mundo já sabe o resultado? ??',\n",
       " 'Fico cada dia mais decepcionada e assustada com o rumo em que este mundo está seguindo...',\n",
       " 'A mulher do cara que morreu falando e eu quase chorando ??',\n",
       " 'I want you to stay',\n",
       " 'Última Fecip da minha vida, meus amigos, que alívio',\n",
       " 'Estou ansiosa pra Fecip, socorro',\n",
       " 'Nunca fiquei tão revoltada como estou agora, de verdade',\n",
       " 'Vinícius tá muito carente, por isso se envolve com gente errada, tadinho??',\n",
       " 'Se eu vou sofrer pra acordar amanhã? Muito, muito mesmo',\n",
       " 'Odeio quando se metem na minha vida ?? vão procurar o que fazer pq a vida de vcs não é exemplo de nada',\n",
       " 'Essa novela tem várias tretas, que ISSOOOO #OOutroLadoDoParaiso',\n",
       " 'Fiquei tão nervosa pra banca hoje que eu acho que Deus ficou com pena de mim e mudou os planos',\n",
       " 'Será que eu consigo me sair bem na bancada hoje? Será?',\n",
       " 'Não entendo o meu próprio agir  Sem tua graça o que seria de mim...',\n",
       " 'Amanhã é dia do meu desespero, senhor amado',\n",
       " 'Mano, que vontade de bater em algumas pessoas ?? se não me responderem eu não apareço naquela escola ??',\n",
       " 'Pois o bem que eu quero fazer não faço, e o mal que eu não quero, esse sim, acabo cometendo...',\n",
       " 'Eu adoro inventar palavras, falar palavras da minha autoria kk',\n",
       " 'Larissa me fazendo assistir os episódios em que o Derek está vivo, me fazendo chorar',\n",
       " 'Pois quando estou em tua presença o meu viver é transformado',\n",
       " 'Enche-me de ti até que não haja mais espaço',\n",
       " 'Queria sair hoje, mas tô sozinha nessa casa com o maior tédio desse mundo',\n",
       " 'Resumindo meu tt hoje: A força do querer e The Walking Dead ??',\n",
       " 'Mariana está toda desesperada por causa da bancada e está me desesperando também',\n",
       " 'Fiz 2 mousses, de limão e de uva. Estão uma delícia! ??',\n",
       " \"Grey's e a 2° temp de Supergirl pra terminar, 3° temp de The Flash e a 6° de Arrow pra começar, MANO, COMO A NETFLIX FAZ ISSO COMIGO\",\n",
       " 'Estou passando mal, Deus me free',\n",
       " 'Ultimamente ando tão triste que nem sei mais',\n",
       " 'Give me a reason to believe',\n",
       " 'Meu irmão pediu pra eu apresentar uma amiga pra ele e eu disse que só o faço se ele me apresentar um amigo também ??',\n",
       " 'Eu contando os meus micos pra Mari hj kkkkkkkkkk só derrota',\n",
       " 'Minha preguiça hoje tá dms',\n",
       " 'Hoje eu fiz janta com Laura, chorando querendo como, lavei a louça... já posso casar e ter um filho',\n",
       " 'Hoje tem outra surpresa pra minha mãe',\n",
       " 'Estou na esquina esperando a Karine vir me buscar',\n",
       " 'Não aguento mais ouvir sobre  Semana de Química e Enem, que essas semanas passem voando pfvr',\n",
       " 'Sdds ir num jogo do Botafogo, sdds Nilton Santos',\n",
       " 'Mas valeu muito a pena todo o esforço, minha mãe amou a surpresa, chorou de emoção',\n",
       " 'Alguém quer uma dor insuportável nos pés aí?',\n",
       " 'Igor sempre me avisando pra n quebrar a cara again ??????',\n",
       " '[22/10 23:35] Amor ?: Fica ligada [22/10 23:35] Amor ?: Estão te abraçando com uma faca mão',\n",
       " '[23/10 22:31] Amor ?: Não sei pq vc perde tempo falando com ela',\n",
       " 'Minha sogra é maravilhosa, ela me ajudou a montar a surpresa da minha mãe',\n",
       " 'N tô entendendo',\n",
       " 'Cancela essa chuva aqui em Petrópolis',\n",
       " 'Bom dia pra quem?',\n",
       " 'E esses glitters que nunca mais vão sair?',\n",
       " 'Igor foi pro trabalho hj, nem vai comer meu strogonoff',\n",
       " 'Almoço de hoje ficou por minha conta, fiz Strogonoff',\n",
       " 'Yeshuuuuuaaaaa aaaaaaaaa',\n",
       " 'Aaah vou fazer Enem no Barão dnv ????????',\n",
       " '3 aninhos quase',\n",
       " 'Início do nosso namoro cara, essa música ??????',\n",
       " 'Cause all of me Loves all of you',\n",
       " 'Para tudo que essa musica é minha e do Igor',\n",
       " 'Não vou a escola amanhã mas vou acordar cedo pra ficar com a Laura',\n",
       " 'Baba Baby',\n",
       " 'Aaah minha infância',\n",
       " 'Ela une o maaaaar',\n",
       " 'Minha turma olha pro limite e fala: KKKKKKK LIMITES',\n",
       " 'Eu estou esgotada dessa escola, que a semana de Química passe muito rápido, e  a semana do Enem tbm',\n",
       " 'Tão triste ver o Diego nesse estado! Que ele Deus abençoe ele e ele possa voltar pra casa bem logo!',\n",
       " 'Deus foi muito generoso quando os escolheu pra serem meus sogros, são como pais pra mim, amo muito ????????',\n",
       " 'Meus sogros são os melhores do mundo',\n",
       " 'Esse horário de verão tá me matando aos poucos',\n",
       " 'Ngm é de ferro, chorar n paga imposto de nem faz mal a saúde',\n",
       " 'Gente meu niver do ano q vem só quero Xbox, hoje foi MT divertido',\n",
       " '[17/10 22:51] Isabelle Bispo: KKKKKKKKK vcs são demais [17/10 22:52] Adriel: Você que é meu docinho de mel',\n",
       " 'Minha mãe n tem a felicidade de dormir á tarde igual eu, e me acorda pra eu dar cartão pros outros na rua ??????',\n",
       " 'Vou p academia hj ??',\n",
       " 'Prof disse pra Gente preparar o rabo pq esquecemos o ácido sulfúrico aberto na capela semana passada e ela só viu h\\x85 https://t.co/gBuK7ayVQx',\n",
       " 'Era p eu ta dormindo',\n",
       " 'Dai-me paciência senhor!',\n",
       " 'Vontade de tacar essa impressora daqui de casa longe',\n",
       " 'Tô me sentindo a própria Dercy Gonçalves de tão velha dor tá tendo',\n",
       " 'Queria estar em casa deitadinha',\n",
       " 'Odeio ficar resfriada',\n",
       " 'Finalmente em casa ?',\n",
       " 'Começou a contagem regressiva no banner dos formandos. Fiquei nervosa',\n",
       " 'Eu tenho que dormirrrrrr',\n",
       " 'Vou dormir pq amanhã é dia de iesk',\n",
       " 'Medley do Kevinho tá melhor que o da Anitta',\n",
       " 'Kevinho cantando ao vivo, q nervoso',\n",
       " 'Eu e Fabíola estamos mt entendedoras do prêmio multi show kkkkkkkkk',\n",
       " 'Eu já deveria estar dormindo, scrr',\n",
       " 'Tô viciadinha nas músicas da Iza',\n",
       " 'Mayara e Maraisa e Marília Mendonça juntas... tô toda arrepiada',\n",
       " 'YUKEEEEEEÊ',\n",
       " 'De novo kkkkkkkkkkkkk',\n",
       " 'Anitta pagando peitinho novamente kkkkkkkkkkk',\n",
       " 'Como não amar as coleguinhas???',\n",
       " 'Amo esses gritinhos da Pabllo',\n",
       " 'Eu só queria ter metade do amor próprio que o primo da Manu tem kkkkkkkkk',\n",
       " 'Manuella tem que trocar de óculos pq esse não tá servindo mais',\n",
       " 'Como faz pra ir pro Crisma nesse dilúvio?',\n",
       " 'Só uns bolinhos de chuva agr',\n",
       " 'Quanto mais eu rezo mais assombração me aparece, q isso',\n",
       " 'Só queria estar com a Jaque e a Liz agora',\n",
       " 'Os planos de Deus nem sempre são fáceis de entender ??',\n",
       " 'Se juntar esses 3 anos de Sarah dá muita história',\n",
       " 'Quem muito brinca um dia vira brinquedo',\n",
       " 'Arrumei a casa toda, quando chegou a vez do meu quarto eu deitei e tô assim até agr',\n",
       " 'To mt dona de casa hoje',\n",
       " 'Carine é mt maria fuzil msmmm',\n",
       " 'Carine mt sujaaaa kkkkkkkkkk',\n",
       " 'Não to acreditando q vou fazer o Enem em Anchieta, q ranço',\n",
       " 'Bom diaaa',\n",
       " 'Perdi a hora firme kkk',\n",
       " 'Tenho 18 anos com um gosto musical de uma pessoa de 40',\n",
       " 'O povo do the voice tá escolhendo as melhores músicass',\n",
       " 'Jojô na novelaaaaa kkkkk amooo',\n",
       " 'Devo estar com cara de velha, n é possível. A atendente do poupa tempo perguntou se eu estava lá pra trocar o nome de solteira pro de casada',\n",
       " 'Amanhã finalmente vou renovar minha identidade. Nada de iesk pela manhã',\n",
       " 'Amo a Ju. Tá fazendo minha unha essa hora',\n",
       " 'Mete bala nele Bibiiiii',\n",
       " 'Mt bom acordar tarde',\n",
       " 'Vou dormir pq se não vou ficar pensativa aqui',\n",
       " 'Tô na bad real agora',\n",
       " 'Como vai ser ano que vem sem encontrar as meninas, Hugo todo dia?',\n",
       " 'Fabiola me fez ficar entristecida essa hora da madru',\n",
       " 'Coração ficou apertado',\n",
       " 'Eu não sei lidar com despedidas',\n",
       " 'Todo santo dia o mesmo número desconhecido me liga. Atendo e a pessoa do outro lado da linha não fala nada. Devo me preocupar? kkkkkkkkkk',\n",
       " 'Felicidade do dia é sair 10:40',\n",
       " 'O programa da Tata tá salvando minha noite kkkkkkkkkkkkkk',\n",
       " 'Manuella tá tão apaixonada que fica cheirando os outros quando sente o cheiro do desodorante do namo kkkkkkkkkkkkkk',\n",
       " 'Minha Bibi tá vivissímaaaa',\n",
       " 'Que hino de reviravoltaaa',\n",
       " 'Joga na cara dele Bibiiiii',\n",
       " 'É agoraaaaa',\n",
       " 'Que nojo do Rubinhoooooo',\n",
       " 'Me sentindo a própria psicanalista pq entendi meu sonho kkkkk',\n",
       " 'Ai eu me acho fofa demais pra ficar solteira kkkk',\n",
       " '25/10/2017 20:32:01: Gente a Lise é uma fofa maravilhosa, sério! Haha ????',\n",
       " 'Faltar ou não faltar',\n",
       " 'Pq misto quente é tão maravilhoso??',\n",
       " 'When love and trust are gone I guess this is moving on',\n",
       " 'Gente buquê tá em promoção baratinho no grande rio, fiquem à vontade',\n",
       " 'Vou ter q enrolar uma hora e meia aqui na faculdade',\n",
       " 'Eu merecia perder 3kg pelo jeito q eu to dolorida',\n",
       " 'Deitada finalmente',\n",
       " 'Lembra aquele tempo amooor quando a gente se encontrou',\n",
       " 'Da-me um coração igual ao teu, meu Mestre',\n",
       " 'Caraca nada melhor q entrar no seu ônibus de sempre e perceber q agora ele tem ar condicionado',\n",
       " 'Eu gosto de sofrer né pq vou acordar cedao e to aqui atoa',\n",
       " 'Incrível como eu me empolgo rápido p as coisas e fico querendo logo',\n",
       " 'Eu n aguento mais sonhar q meus dentes estão caindo',\n",
       " 'Dormi tanto q tive 3 sonhos diferentes',\n",
       " 'Ainda muito triste que a Hingis vai se aposentar',\n",
       " 'ALOU ALOU, DONA DE CASA, É O CARRO DO QUEIJO QUE ESTÁ PASSANDO NA SUA RUA!   Me sentindo em Poços de Caldas MG',\n",
       " 'Preciso fazer a barba pq essa merda já começou a coçar. Vai pro caralho',\n",
       " 'Tô pensando em mudar o user do perfil lá pra algo um pouco mais sei lá... Original',\n",
       " 'Tricolor é engraçado.   \"NÃO PORQUE TÃO TRANSFORMANDO O FLUMINENSE NO GOIÁS BLÁ BLÁ\"  Em campo: Reginaldo e Lateral Lucas  Aí é difícil...',\n",
       " 'Hingis vai parar. Merda',\n",
       " 'Tem umas pessoas da TL que eu queria muito trocar ideia a fundo e marcar no tweet, mas puta, q vergonha mano',\n",
       " 'Lowry já pode voltar pra Filadélfia mesmo',\n",
       " 'KKKKKKKKKKKKKKKKK E EU ACHANDO Q O RAPTORS IA DEIXAR A PIPOCADA PROS OFFS',\n",
       " 'BACANA QUE EU TO ERRANDO AS PALAVRAS TUDO',\n",
       " 'Poeltl tá comendo o garrafão do Warriors',\n",
       " 'UMA BOLA DE TRÊS DO LOWRY CAIU, MINHA NOSSA',\n",
       " 'Se os torcedores do Raptors soubessem que o Lowry ia ser patético assim depois da renovação iam preferir ele na Filadélfia mesmo',\n",
       " 'Lowry chutando pra três: por favor, pare. EU IMPLOR',\n",
       " 'Rook cheio das bolas de três',\n",
       " 'Saudades bb @euodeiofutebol',\n",
       " 'Que bela bola de três do Oguga',\n",
       " 'KKKKKKKKKKKKKKKKKKKKKKK QUE TIJOLADA TOSCA',\n",
       " 'Patrashon',\n",
       " 'O Nets não pode tirar a noite pra foder com o cidadão de bem',\n",
       " 'ACY FOR 3',\n",
       " '#WeGoHard',\n",
       " '0 almas vivas no Challenger de Guayaquil',\n",
       " 'VAMOS @jamunar_38',\n",
       " 'AMIGOS, ENQUANTO LINK UCRANIANO EXISTIR, NÃO PRECISAREI DE TELEVISÃO NENHUMA',\n",
       " 'Oguga e Josh Jackson no mesmo horário vai ser triste...',\n",
       " 'Toronto vai com Ibaka de Center e Oguga de Power Forward?',\n",
       " 'Nuggets e Hornets: a dúvida é pra quem torcer',\n",
       " 'Estudar de noite tá me deixando muito desocupado, puta merda',\n",
       " 'Mano, são 20:27 e tô morto de sono',\n",
       " 'Quem da TL gosta/acompanha a modalidade esportiva basquete? (Pessoas óbvias, não respondam)',\n",
       " 'Tenho quase certeza que Maximo Gonzalez/Neis é a única parceria sul-americana fixa no circuito ATP Challenger',\n",
       " '6/2 Francesca',\n",
       " 'Me desbloqueia do Guia da Ásia aí meu irms @OGuiadoFutebol',\n",
       " 'Forza Francesca',\n",
       " 'Sergio Rodriguez for 3. K beleuza',\n",
       " 'Vamo assistir um CSKA',\n",
       " 'Maluco estrelinha da porra, bicho',\n",
       " 'Cortaram a internet aqui de casa porque o meu pai n pagou a conta que vencia dia 5 e meu pai n tem dinheiro pra pagar.',\n",
       " 'XI, O CLEE DISSE QUE TEM UNS JOGADORES QUE NÃO TÃO SABENDO AS JOGADAS DO TIME E QUE TEM Q PRESTAR MAIS ATENÇÃO NO TREINAMENTO  VISHH',\n",
       " 'QUERREY SERVE AND VOLLEY   @Luna_Viola7 approves',\n",
       " 'MANO O DIOGO DOLEM TÁ NO GRUPO DO FM HAHAHAHAHAHAHAHHA',\n",
       " 'A estrutura do CH de Ho Chi Minh é melhor que a do Rio Open',\n",
       " 'O cara do vietnã não sabe sacar e é tenista profissional. Help',\n",
       " 'Soeda tá estuprando o Vietnã',\n",
       " 'WTA Finals and ATP Finals are the worse tournaments of the season',\n",
       " 'Assistindo o warm up de Nam Hoang Ly - Go Soeda  Será que eu não tenho nada melhor pra fazer não?',\n",
       " 'Vamos pular logo pro CH do Rio, né?',\n",
       " 'N basta o pai pegar a minha caneca emprestada  Ele pega e mancha de café.   Porra pai, é o ÚNICO produto do Knicks q eu ainda posso usar...',\n",
       " 'O que o digníssimo coach Casey, o Cristóvão Borges da NBA quer com essas tijoladas de três? @RaptorsMilGrau',\n",
       " 'Caralho, o Sam Groth vai se aposentar no Australian Open',\n",
       " 'Josh Jackson gênio',\n",
       " 'não acredito que o Powell tijolou isso',\n",
       " 'EITA O IBAKA',\n",
       " 'DEMAR PASSANDO VERGONHA PRO GREEN, MEU DEUS',\n",
       " 'O que fizeram com o Green? Parece até que presta',\n",
       " 'NOSSA IBAKA',\n",
       " 'O Raptors é um time legal de se assistir.  Só seria melhor se parassem de forçar com essas tijoladas de três  Fire Casey',\n",
       " 'Miles for 3',\n",
       " 'Harden 2o melhor jogador da NBA só não é mais engraçado que o Michael Beasley falar que é do mesmo nível do LeBron James e Kevin Durant',\n",
       " 'Ficar entrosando é uma merda. Sou chato mesmo, vsf',\n",
       " 'Eu odeio gente que entrosa em conversa, principalmente em rede-social',\n",
       " 'Saudades quando o Tomic jogava tênis...',\n",
       " 'Jakub Paul furou o quali de Ho Chi Minh',\n",
       " 'Fritz faz aniversário dia 28. Que legal',\n",
       " 'Retweeta a cabeça da minha pica',\n",
       " 'To achando impressionante como o Julius evoluiu',\n",
       " 'O ROOK',\n",
       " 'JULIUS',\n",
       " 'Ficou pistola',\n",
       " 'O WIGGINS  MEU DEUS',\n",
       " 'CARMELOOOOOOOOO ANTHONYYYYYYYYYY',\n",
       " 'RUSS DE NOVO',\n",
       " 'Dá a bola na mão do Me7o, bando de mula',\n",
       " 'Será que o Sam Presti sabe que o time dele precisa de um banco?',\n",
       " 'Pena que o Adams é um imbecil',\n",
       " 'RAPAZ O HOMI TÁ DEMAIS',\n",
       " 'Volta @raymondfelton seu gordinho maravilhoso',\n",
       " 'MVP FOR 3',\n",
       " 'RUSS',\n",
       " 'DeMarre Carroll hoje: 17p/3r/2ast/2stl/2blks (FG: 57%, 4/7 e 2/5 em bolas de 3)  Que homem',\n",
       " \"D'LO FOR 3\",\n",
       " 'Chovendo pra porra',\n",
       " 'Booker é um cavalo, bicho',\n",
       " 'Deve ser muito legal torcer pra uma franquia que tem armador, né',\n",
       " \"DEMARRE CARROLL-D'LO-JARRETT ALLEN  É O MELHOR TIME DO MUNDO #\",\n",
       " 'CARROLL STEAL E ACERTOU UMA DE TRÊS   QUE HOMEM  CHUPA @RaptorsMilGrau',\n",
       " 'Esse mlk que arremessou agora no intervalo do Nets arremessa melhor que o Sessions',\n",
       " 'Jarrett Allen em 6 minutos: 3p/3r/4blks  QUE MONSTRO',\n",
       " 'MEU DEUS O ALLEN',\n",
       " 'Até o Derrame tá jogando muito',\n",
       " 'O Barclays Center é LINDO demais',\n",
       " \"BLOCK BY ALLEN E QUE ASSISTÊNCIA DO D'LO MDS\",\n",
       " 'BLOCK BY ALLEN',\n",
       " 'BOOKER',\n",
       " 'O fim da temporada do tênis é tão deprimente que eu tô falando de futebol nesse perfil. Puta que pariu',\n",
       " 'Almoçando as 17:34 pelo segundo dia consecutivo. Fracassei na vida',\n",
       " 'Se o Knicks jogar no dia do casamento da minha prima, vou ficar pistola',\n",
       " 'Meu tênis tá todo sujo de barro. Eu odeio essa merda de saibro',\n",
       " 'Como q salva vídeo, bichos?',\n",
       " 'Vou tirar uma soneca, mas antes:   VAI TOMAR NO CU RAMON SESSIONS',\n",
       " 'Bom dia :)',\n",
       " 'Imagina assinar de 16,5 milhões com o Tim Hardaway Jr kkkkkkkkkkkkkkkkkkkkkkkkkk que fracasso  eu quero agredir o filha da puta que fez isso',\n",
       " 'ROOKIE DE MERDA, ERA MELHOR TER TROCADO ESSE LIXO E O CARMELO PRO CAVS MESMO TAMBÉM  LIXO LIXO LIXO',\n",
       " 'O Knicks tem CINCO pivôs nesse LIXO de roster e não tem UM armador decente sequer (e nem um small forward)',\n",
       " 'O pior do Knicks nem é o filha da puta do Sessions, é o banco lixo do caralho',\n",
       " 'Assina com a porra de um armador, cambada de filha da puta @nyknicks',\n",
       " 'Como que o Suns tem esse garrafão tão horroroso?',\n",
       " 'Galaxy Depre na TL. Me sinto em 2012',\n",
       " 'Eu posso falar que se o Porzingis jogasse em um time e não num catado de merda ele seria o melhor PF da liga ou não?',\n",
       " 'Como eu gosto de basquete torcendo pro Knicks mesmo?',\n",
       " 'Giannis Antetokoumpo: 44p/8r/4ast/2stl/1blk  Ó O MEU MVP AÍ  M-V-P M-V-P M-V-P M-V-P M-V-P M-V-P',\n",
       " 'Knicks perdeu de novo e o Hernangomez jogou zero minutos  ZERO  ZEEEEEEEEROOOOOOOOOOOOOOOO  VAI TOMAR NO CU @nyknicks   #FIREHORNACEK',\n",
       " 'Se o Lonzo fizesse o triple-double, o tanto que o Bolsonaro da NBA ia falar não ia ser brincadeira...',\n",
       " 'EITA. CENAS LAMENTÁVEIS NO DESERTO',\n",
       " 'Queria receber os milhões que o Brewer recebe pra fazer os nada que ele faz',\n",
       " 'Vocês já pensaram que o Knicks só não tem um time pior que o Bulls por causa do Porzingis?',\n",
       " 'PÕE O JOSH JACKSON PRA JOGAR NA 3 EARL WATSON SEU ARROMBADO',\n",
       " '#TripleDoubleWatch pro Lonzo Bola?',\n",
       " 'A defesa do Lakers é mais desorganizada que a minha vida',\n",
       " 'Que braçada bonita do Cousins no Draymond',\n",
       " 'Como que o Lonzo Ball chegou na NBA arremessando com o COTOVELO?',\n",
       " 'ERA PRA CRAVAR, STEIN................',\n",
       " 'Deve ser muito bom torcer pra um time decente né? Eu queria saber oq é isso',\n",
       " 'QUEISSODURANT',\n",
       " 'Alguém manda o Cousins sentar o cu no banco e ficar quieto',\n",
       " 'Queria bem era saber o que o AD tá falando pro Rondo',\n",
       " 'ANTHONY DAVIS O FAMIGERADO MEU PAI',\n",
       " 'CLARK FOR 33333333333 QUE HOMEM',\n",
       " 'Draymond Greenkkkkkkkkkkkkkkkkkk']"
      ]
     },
     "execution_count": 22,
     "metadata": {},
     "output_type": "execute_result"
    }
   ],
   "source": []
  },
  {
   "cell_type": "code",
   "execution_count": 156,
   "metadata": {
    "collapsed": false
   },
   "outputs": [],
   "source": [
    "#classifier = svm.SVC(kernel='rbf',gamma=0.001, C=100.)\n",
    "from sklearn.svm import SVC\n",
    "svm = SVC(kernel=\"linear\")"
   ]
  },
  {
   "cell_type": "code",
   "execution_count": 157,
   "metadata": {
    "collapsed": false
   },
   "outputs": [
    {
     "name": "stdout",
     "output_type": "stream",
     "text": [
      "Original number of features : 3697\n"
     ]
    },
    {
     "ename": "KeyboardInterrupt",
     "evalue": "",
     "output_type": "error",
     "traceback": [
      "\u001b[0;31m---------------------------------------------------------------------------\u001b[0m",
      "\u001b[0;31mKeyboardInterrupt\u001b[0m                         Traceback (most recent call last)",
      "\u001b[0;32m<ipython-input-157-5adf7e741217>\u001b[0m in \u001b[0;36m<module>\u001b[0;34m()\u001b[0m\n\u001b[1;32m      2\u001b[0m \u001b[0mrfecv\u001b[0m \u001b[1;33m=\u001b[0m \u001b[0mRFECV\u001b[0m\u001b[1;33m(\u001b[0m\u001b[0mestimator\u001b[0m\u001b[1;33m=\u001b[0m\u001b[0msvm\u001b[0m\u001b[1;33m,\u001b[0m \u001b[0mstep\u001b[0m\u001b[1;33m=\u001b[0m\u001b[1;36m1\u001b[0m\u001b[1;33m,\u001b[0m \u001b[0mcv\u001b[0m\u001b[1;33m=\u001b[0m\u001b[1;36m5\u001b[0m\u001b[1;33m,\u001b[0m \u001b[0mscoring\u001b[0m\u001b[1;33m=\u001b[0m\u001b[1;34m'accuracy'\u001b[0m\u001b[1;33m)\u001b[0m\u001b[1;33m\u001b[0m\u001b[0m\n\u001b[1;32m      3\u001b[0m \u001b[0mprint\u001b[0m\u001b[1;33m(\u001b[0m\u001b[1;34m\"Original number of features : %d\"\u001b[0m \u001b[1;33m%\u001b[0m \u001b[0mX_train_tfidf\u001b[0m\u001b[1;33m.\u001b[0m\u001b[0mshape\u001b[0m\u001b[1;33m[\u001b[0m\u001b[1;36m1\u001b[0m\u001b[1;33m]\u001b[0m\u001b[1;33m)\u001b[0m\u001b[1;33m\u001b[0m\u001b[0m\n\u001b[0;32m----> 4\u001b[0;31m \u001b[0mrfecv\u001b[0m\u001b[1;33m.\u001b[0m\u001b[0mfit\u001b[0m\u001b[1;33m(\u001b[0m\u001b[0mX_train_tfidf\u001b[0m\u001b[1;33m,\u001b[0m \u001b[0mlabels_train\u001b[0m\u001b[1;33m)\u001b[0m\u001b[1;33m\u001b[0m\u001b[0m\n\u001b[0m\u001b[1;32m      5\u001b[0m \u001b[0mX_rfecv\u001b[0m\u001b[1;33m=\u001b[0m\u001b[0mrfecv\u001b[0m\u001b[1;33m.\u001b[0m\u001b[0mtransform\u001b[0m\u001b[1;33m(\u001b[0m\u001b[0mX_train_tfidf\u001b[0m\u001b[1;33m)\u001b[0m\u001b[1;33m\u001b[0m\u001b[0m\n",
      "\u001b[0;32mC:\\Users\\TalitaCypriano\\Anaconda3\\lib\\site-packages\\sklearn\\feature_selection\\rfe.py\u001b[0m in \u001b[0;36mfit\u001b[0;34m(self, X, y)\u001b[0m\n\u001b[1;32m    428\u001b[0m         scores = parallel(\n\u001b[1;32m    429\u001b[0m             \u001b[0mfunc\u001b[0m\u001b[1;33m(\u001b[0m\u001b[0mrfe\u001b[0m\u001b[1;33m,\u001b[0m \u001b[0mself\u001b[0m\u001b[1;33m.\u001b[0m\u001b[0mestimator\u001b[0m\u001b[1;33m,\u001b[0m \u001b[0mX\u001b[0m\u001b[1;33m,\u001b[0m \u001b[0my\u001b[0m\u001b[1;33m,\u001b[0m \u001b[0mtrain\u001b[0m\u001b[1;33m,\u001b[0m \u001b[0mtest\u001b[0m\u001b[1;33m,\u001b[0m \u001b[0mscorer\u001b[0m\u001b[1;33m)\u001b[0m\u001b[1;33m\u001b[0m\u001b[0m\n\u001b[0;32m--> 430\u001b[0;31m             for train, test in cv.split(X, y))\n\u001b[0m\u001b[1;32m    431\u001b[0m \u001b[1;33m\u001b[0m\u001b[0m\n\u001b[1;32m    432\u001b[0m         \u001b[0mscores\u001b[0m \u001b[1;33m=\u001b[0m \u001b[0mnp\u001b[0m\u001b[1;33m.\u001b[0m\u001b[0msum\u001b[0m\u001b[1;33m(\u001b[0m\u001b[0mscores\u001b[0m\u001b[1;33m,\u001b[0m \u001b[0maxis\u001b[0m\u001b[1;33m=\u001b[0m\u001b[1;36m0\u001b[0m\u001b[1;33m)\u001b[0m\u001b[1;33m\u001b[0m\u001b[0m\n",
      "\u001b[0;32mC:\\Users\\TalitaCypriano\\Anaconda3\\lib\\site-packages\\sklearn\\feature_selection\\rfe.py\u001b[0m in \u001b[0;36m<genexpr>\u001b[0;34m(.0)\u001b[0m\n\u001b[1;32m    428\u001b[0m         scores = parallel(\n\u001b[1;32m    429\u001b[0m             \u001b[0mfunc\u001b[0m\u001b[1;33m(\u001b[0m\u001b[0mrfe\u001b[0m\u001b[1;33m,\u001b[0m \u001b[0mself\u001b[0m\u001b[1;33m.\u001b[0m\u001b[0mestimator\u001b[0m\u001b[1;33m,\u001b[0m \u001b[0mX\u001b[0m\u001b[1;33m,\u001b[0m \u001b[0my\u001b[0m\u001b[1;33m,\u001b[0m \u001b[0mtrain\u001b[0m\u001b[1;33m,\u001b[0m \u001b[0mtest\u001b[0m\u001b[1;33m,\u001b[0m \u001b[0mscorer\u001b[0m\u001b[1;33m)\u001b[0m\u001b[1;33m\u001b[0m\u001b[0m\n\u001b[0;32m--> 430\u001b[0;31m             for train, test in cv.split(X, y))\n\u001b[0m\u001b[1;32m    431\u001b[0m \u001b[1;33m\u001b[0m\u001b[0m\n\u001b[1;32m    432\u001b[0m         \u001b[0mscores\u001b[0m \u001b[1;33m=\u001b[0m \u001b[0mnp\u001b[0m\u001b[1;33m.\u001b[0m\u001b[0msum\u001b[0m\u001b[1;33m(\u001b[0m\u001b[0mscores\u001b[0m\u001b[1;33m,\u001b[0m \u001b[0maxis\u001b[0m\u001b[1;33m=\u001b[0m\u001b[1;36m0\u001b[0m\u001b[1;33m)\u001b[0m\u001b[1;33m\u001b[0m\u001b[0m\n",
      "\u001b[0;32mC:\\Users\\TalitaCypriano\\Anaconda3\\lib\\site-packages\\sklearn\\feature_selection\\rfe.py\u001b[0m in \u001b[0;36m_rfe_single_fit\u001b[0;34m(rfe, estimator, X, y, train, test, scorer)\u001b[0m\n\u001b[1;32m     28\u001b[0m     \u001b[0mX_test\u001b[0m\u001b[1;33m,\u001b[0m \u001b[0my_test\u001b[0m \u001b[1;33m=\u001b[0m \u001b[0m_safe_split\u001b[0m\u001b[1;33m(\u001b[0m\u001b[0mestimator\u001b[0m\u001b[1;33m,\u001b[0m \u001b[0mX\u001b[0m\u001b[1;33m,\u001b[0m \u001b[0my\u001b[0m\u001b[1;33m,\u001b[0m \u001b[0mtest\u001b[0m\u001b[1;33m,\u001b[0m \u001b[0mtrain\u001b[0m\u001b[1;33m)\u001b[0m\u001b[1;33m\u001b[0m\u001b[0m\n\u001b[1;32m     29\u001b[0m     return rfe._fit(\n\u001b[0;32m---> 30\u001b[0;31m         \u001b[0mX_train\u001b[0m\u001b[1;33m,\u001b[0m \u001b[0my_train\u001b[0m\u001b[1;33m,\u001b[0m \u001b[1;32mlambda\u001b[0m \u001b[0mestimator\u001b[0m\u001b[1;33m,\u001b[0m \u001b[0mfeatures\u001b[0m\u001b[1;33m:\u001b[0m\u001b[1;33m\u001b[0m\u001b[0m\n\u001b[0m\u001b[1;32m     31\u001b[0m         _score(estimator, X_test[:, features], y_test, scorer)).scores_\n\u001b[1;32m     32\u001b[0m \u001b[1;33m\u001b[0m\u001b[0m\n",
      "\u001b[0;32mC:\\Users\\TalitaCypriano\\Anaconda3\\lib\\site-packages\\sklearn\\feature_selection\\rfe.py\u001b[0m in \u001b[0;36m_fit\u001b[0;34m(self, X, y, step_score)\u001b[0m\n\u001b[1;32m    167\u001b[0m                 \u001b[0mprint\u001b[0m\u001b[1;33m(\u001b[0m\u001b[1;34m\"Fitting estimator with %d features.\"\u001b[0m \u001b[1;33m%\u001b[0m \u001b[0mnp\u001b[0m\u001b[1;33m.\u001b[0m\u001b[0msum\u001b[0m\u001b[1;33m(\u001b[0m\u001b[0msupport_\u001b[0m\u001b[1;33m)\u001b[0m\u001b[1;33m)\u001b[0m\u001b[1;33m\u001b[0m\u001b[0m\n\u001b[1;32m    168\u001b[0m \u001b[1;33m\u001b[0m\u001b[0m\n\u001b[0;32m--> 169\u001b[0;31m             \u001b[0mestimator\u001b[0m\u001b[1;33m.\u001b[0m\u001b[0mfit\u001b[0m\u001b[1;33m(\u001b[0m\u001b[0mX\u001b[0m\u001b[1;33m[\u001b[0m\u001b[1;33m:\u001b[0m\u001b[1;33m,\u001b[0m \u001b[0mfeatures\u001b[0m\u001b[1;33m]\u001b[0m\u001b[1;33m,\u001b[0m \u001b[0my\u001b[0m\u001b[1;33m)\u001b[0m\u001b[1;33m\u001b[0m\u001b[0m\n\u001b[0m\u001b[1;32m    170\u001b[0m \u001b[1;33m\u001b[0m\u001b[0m\n\u001b[1;32m    171\u001b[0m             \u001b[1;31m# Get coefs\u001b[0m\u001b[1;33m\u001b[0m\u001b[1;33m\u001b[0m\u001b[0m\n",
      "\u001b[0;32mC:\\Users\\TalitaCypriano\\Anaconda3\\lib\\site-packages\\sklearn\\svm\\base.py\u001b[0m in \u001b[0;36mfit\u001b[0;34m(self, X, y, sample_weight)\u001b[0m\n\u001b[1;32m    187\u001b[0m \u001b[1;33m\u001b[0m\u001b[0m\n\u001b[1;32m    188\u001b[0m         \u001b[0mseed\u001b[0m \u001b[1;33m=\u001b[0m \u001b[0mrnd\u001b[0m\u001b[1;33m.\u001b[0m\u001b[0mrandint\u001b[0m\u001b[1;33m(\u001b[0m\u001b[0mnp\u001b[0m\u001b[1;33m.\u001b[0m\u001b[0miinfo\u001b[0m\u001b[1;33m(\u001b[0m\u001b[1;34m'i'\u001b[0m\u001b[1;33m)\u001b[0m\u001b[1;33m.\u001b[0m\u001b[0mmax\u001b[0m\u001b[1;33m)\u001b[0m\u001b[1;33m\u001b[0m\u001b[0m\n\u001b[0;32m--> 189\u001b[0;31m         \u001b[0mfit\u001b[0m\u001b[1;33m(\u001b[0m\u001b[0mX\u001b[0m\u001b[1;33m,\u001b[0m \u001b[0my\u001b[0m\u001b[1;33m,\u001b[0m \u001b[0msample_weight\u001b[0m\u001b[1;33m,\u001b[0m \u001b[0msolver_type\u001b[0m\u001b[1;33m,\u001b[0m \u001b[0mkernel\u001b[0m\u001b[1;33m,\u001b[0m \u001b[0mrandom_seed\u001b[0m\u001b[1;33m=\u001b[0m\u001b[0mseed\u001b[0m\u001b[1;33m)\u001b[0m\u001b[1;33m\u001b[0m\u001b[0m\n\u001b[0m\u001b[1;32m    190\u001b[0m         \u001b[1;31m# see comment on the other call to np.iinfo in this file\u001b[0m\u001b[1;33m\u001b[0m\u001b[1;33m\u001b[0m\u001b[0m\n\u001b[1;32m    191\u001b[0m \u001b[1;33m\u001b[0m\u001b[0m\n",
      "\u001b[0;32mC:\\Users\\TalitaCypriano\\Anaconda3\\lib\\site-packages\\sklearn\\svm\\base.py\u001b[0m in \u001b[0;36m_sparse_fit\u001b[0;34m(self, X, y, sample_weight, solver_type, kernel, random_seed)\u001b[0m\n\u001b[1;32m    276\u001b[0m                 \u001b[0msample_weight\u001b[0m\u001b[1;33m,\u001b[0m \u001b[0mself\u001b[0m\u001b[1;33m.\u001b[0m\u001b[0mnu\u001b[0m\u001b[1;33m,\u001b[0m \u001b[0mself\u001b[0m\u001b[1;33m.\u001b[0m\u001b[0mcache_size\u001b[0m\u001b[1;33m,\u001b[0m \u001b[0mself\u001b[0m\u001b[1;33m.\u001b[0m\u001b[0mepsilon\u001b[0m\u001b[1;33m,\u001b[0m\u001b[1;33m\u001b[0m\u001b[0m\n\u001b[1;32m    277\u001b[0m                 \u001b[0mint\u001b[0m\u001b[1;33m(\u001b[0m\u001b[0mself\u001b[0m\u001b[1;33m.\u001b[0m\u001b[0mshrinking\u001b[0m\u001b[1;33m)\u001b[0m\u001b[1;33m,\u001b[0m \u001b[0mint\u001b[0m\u001b[1;33m(\u001b[0m\u001b[0mself\u001b[0m\u001b[1;33m.\u001b[0m\u001b[0mprobability\u001b[0m\u001b[1;33m)\u001b[0m\u001b[1;33m,\u001b[0m \u001b[0mself\u001b[0m\u001b[1;33m.\u001b[0m\u001b[0mmax_iter\u001b[0m\u001b[1;33m,\u001b[0m\u001b[1;33m\u001b[0m\u001b[0m\n\u001b[0;32m--> 278\u001b[0;31m                 random_seed)\n\u001b[0m\u001b[1;32m    279\u001b[0m \u001b[1;33m\u001b[0m\u001b[0m\n\u001b[1;32m    280\u001b[0m         \u001b[0mself\u001b[0m\u001b[1;33m.\u001b[0m\u001b[0m_warn_from_fit_status\u001b[0m\u001b[1;33m(\u001b[0m\u001b[1;33m)\u001b[0m\u001b[1;33m\u001b[0m\u001b[0m\n",
      "\u001b[0;32msklearn\\svm\\libsvm_sparse.pyx\u001b[0m in \u001b[0;36msklearn.svm.libsvm_sparse.libsvm_sparse_train (sklearn\\svm\\libsvm_sparse.c:2793)\u001b[0;34m()\u001b[0m\n",
      "\u001b[0;32mC:\\Users\\TalitaCypriano\\Anaconda3\\lib\\site-packages\\scipy\\sparse\\compressed.py\u001b[0m in \u001b[0;36m__init__\u001b[0;34m(self, arg1, shape, dtype, copy)\u001b[0m\n\u001b[1;32m     22\u001b[0m     \u001b[1;34m\"\"\"base matrix class for compressed row and column oriented matrices\"\"\"\u001b[0m\u001b[1;33m\u001b[0m\u001b[0m\n\u001b[1;32m     23\u001b[0m \u001b[1;33m\u001b[0m\u001b[0m\n\u001b[0;32m---> 24\u001b[0;31m     \u001b[1;32mdef\u001b[0m \u001b[0m__init__\u001b[0m\u001b[1;33m(\u001b[0m\u001b[0mself\u001b[0m\u001b[1;33m,\u001b[0m \u001b[0marg1\u001b[0m\u001b[1;33m,\u001b[0m \u001b[0mshape\u001b[0m\u001b[1;33m=\u001b[0m\u001b[1;32mNone\u001b[0m\u001b[1;33m,\u001b[0m \u001b[0mdtype\u001b[0m\u001b[1;33m=\u001b[0m\u001b[1;32mNone\u001b[0m\u001b[1;33m,\u001b[0m \u001b[0mcopy\u001b[0m\u001b[1;33m=\u001b[0m\u001b[1;32mFalse\u001b[0m\u001b[1;33m)\u001b[0m\u001b[1;33m:\u001b[0m\u001b[1;33m\u001b[0m\u001b[0m\n\u001b[0m\u001b[1;32m     25\u001b[0m         \u001b[0m_data_matrix\u001b[0m\u001b[1;33m.\u001b[0m\u001b[0m__init__\u001b[0m\u001b[1;33m(\u001b[0m\u001b[0mself\u001b[0m\u001b[1;33m)\u001b[0m\u001b[1;33m\u001b[0m\u001b[0m\n\u001b[1;32m     26\u001b[0m \u001b[1;33m\u001b[0m\u001b[0m\n",
      "\u001b[0;31mKeyboardInterrupt\u001b[0m: "
     ]
    }
   ],
   "source": [
    "from sklearn.feature_selection import RFECV\n",
    "rfecv = RFECV(estimator=svm, step=1, cv=5, scoring='accuracy')\n",
    "print(\"Original number of features : %d\" % X_train_tfidf.shape[1])\n",
    "rfecv.fit(X_train_tfidf, labels_train)\n",
    "X_rfecv=rfecv.transform(X_train_tfidf)"
   ]
  },
  {
   "cell_type": "code",
   "execution_count": null,
   "metadata": {
    "collapsed": true
   },
   "outputs": [],
   "source": [
    "# train classifier\n",
    "clf = MultinomialNB(alpha=0.5).fit(X_rfecv, labels_train)\n",
    "\n",
    "# test clf on test data\n",
    "X_test_rfecv = rfecv.transform(X_test_tfidf)\n",
    "\n",
    "predicted = clf.predict(X_test_rfecv) \n",
    "\n",
    "print(\"\\nAccuracy Training: \" + str(np.mean(predicted == labels_test)))"
   ]
  },
  {
   "cell_type": "code",
   "execution_count": null,
   "metadata": {
    "collapsed": true
   },
   "outputs": [],
   "source": [
    "print(\"Optimal number of features : %d\" % rfecv.n_features_)\n",
    "\n",
    "# train classifier\n",
    "clf = svm.fit(X_rfecv, labels_train)\n",
    "\n",
    "# test clf on test data\n",
    "X_test_rfecv = rfecv.transform(X_test_tfidf)\n",
    "\n",
    "predicted = clf.predict(X_test_rfecv) \n",
    "\n",
    "print(\"\\nAccuracy Training: \" + str(np.mean(predicted == labels_test)))"
   ]
  },
  {
   "cell_type": "code",
   "execution_count": null,
   "metadata": {
    "collapsed": true
   },
   "outputs": [],
   "source": [
    "## Todos os registros\n",
    "classifier.fit(sentencesWithoutStopWords, datasetInFrame[\"val\"].values)"
   ]
  }
 ],
 "metadata": {
  "kernelspec": {
   "display_name": "Python 3",
   "language": "python",
   "name": "python3"
  },
  "language_info": {
   "codemirror_mode": {
    "name": "ipython",
    "version": 3
   },
   "file_extension": ".py",
   "mimetype": "text/x-python",
   "name": "python",
   "nbconvert_exporter": "python",
   "pygments_lexer": "ipython3",
   "version": "3.6.0"
  }
 },
 "nbformat": 4,
 "nbformat_minor": 2
}
